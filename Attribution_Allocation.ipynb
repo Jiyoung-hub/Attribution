{
 "cells": [
  {
   "cell_type": "markdown",
   "metadata": {},
   "source": [
    "### When it's useful\n",
    "1.Last interaction : When sales cycle does not involve a consideration phase\n",
    "\n",
    "2.Position_based   : When you value touchpoints that introduced customers and resulted in sales\n",
    "\n",
    "3.Linear           : When your ads are designed to maintain contact throught entire cycle\n",
    "\n",
    "4.First interaction: When you are starting off/want to create initial awareness\n",
    "\n",
    "5.Last non-direct  : When you want to filter out direct traffic"
   ]
  },
  {
   "cell_type": "markdown",
   "metadata": {},
   "source": [
    "## Read data"
   ]
  },
  {
   "cell_type": "code",
   "execution_count": 1,
   "metadata": {},
   "outputs": [],
   "source": [
    "import numpy as np\n",
    "import pandas as pd"
   ]
  },
  {
   "cell_type": "code",
   "execution_count": 2,
   "metadata": {},
   "outputs": [],
   "source": [
    "df = pd.read_csv('attribution_allocation_student_data.csv')"
   ]
  },
  {
   "cell_type": "code",
   "execution_count": 3,
   "metadata": {
    "scrolled": true
   },
   "outputs": [
    {
     "data": {
      "text/html": [
       "<div>\n",
       "<style scoped>\n",
       "    .dataframe tbody tr th:only-of-type {\n",
       "        vertical-align: middle;\n",
       "    }\n",
       "\n",
       "    .dataframe tbody tr th {\n",
       "        vertical-align: top;\n",
       "    }\n",
       "\n",
       "    .dataframe thead th {\n",
       "        text-align: right;\n",
       "    }\n",
       "</style>\n",
       "<table border=\"1\" class=\"dataframe\">\n",
       "  <thead>\n",
       "    <tr style=\"text-align: right;\">\n",
       "      <th></th>\n",
       "      <th>convert_TF</th>\n",
       "      <th>touch_1</th>\n",
       "      <th>touch_2</th>\n",
       "      <th>touch_3</th>\n",
       "      <th>touch_4</th>\n",
       "      <th>touch_5</th>\n",
       "      <th>tier</th>\n",
       "    </tr>\n",
       "  </thead>\n",
       "  <tbody>\n",
       "    <tr>\n",
       "      <th>0</th>\n",
       "      <td>True</td>\n",
       "      <td>email</td>\n",
       "      <td>direct</td>\n",
       "      <td>social</td>\n",
       "      <td>NaN</td>\n",
       "      <td>NaN</td>\n",
       "      <td>1</td>\n",
       "    </tr>\n",
       "    <tr>\n",
       "      <th>1</th>\n",
       "      <td>True</td>\n",
       "      <td>social</td>\n",
       "      <td>direct</td>\n",
       "      <td>organic_search</td>\n",
       "      <td>NaN</td>\n",
       "      <td>NaN</td>\n",
       "      <td>1</td>\n",
       "    </tr>\n",
       "    <tr>\n",
       "      <th>2</th>\n",
       "      <td>True</td>\n",
       "      <td>organic_search</td>\n",
       "      <td>display</td>\n",
       "      <td>social</td>\n",
       "      <td>NaN</td>\n",
       "      <td>NaN</td>\n",
       "      <td>1</td>\n",
       "    </tr>\n",
       "    <tr>\n",
       "      <th>3</th>\n",
       "      <td>True</td>\n",
       "      <td>social</td>\n",
       "      <td>direct</td>\n",
       "      <td>NaN</td>\n",
       "      <td>NaN</td>\n",
       "      <td>NaN</td>\n",
       "      <td>1</td>\n",
       "    </tr>\n",
       "    <tr>\n",
       "      <th>4</th>\n",
       "      <td>True</td>\n",
       "      <td>social</td>\n",
       "      <td>display</td>\n",
       "      <td>direct</td>\n",
       "      <td>NaN</td>\n",
       "      <td>NaN</td>\n",
       "      <td>1</td>\n",
       "    </tr>\n",
       "  </tbody>\n",
       "</table>\n",
       "</div>"
      ],
      "text/plain": [
       "   convert_TF         touch_1  touch_2         touch_3 touch_4 touch_5  tier\n",
       "0        True           email   direct          social     NaN     NaN     1\n",
       "1        True          social   direct  organic_search     NaN     NaN     1\n",
       "2        True  organic_search  display          social     NaN     NaN     1\n",
       "3        True          social   direct             NaN     NaN     NaN     1\n",
       "4        True          social  display          direct     NaN     NaN     1"
      ]
     },
     "execution_count": 3,
     "metadata": {},
     "output_type": "execute_result"
    }
   ],
   "source": [
    "df.head()"
   ]
  },
  {
   "cell_type": "code",
   "execution_count": 4,
   "metadata": {},
   "outputs": [
    {
     "data": {
      "text/plain": [
       "False    216034\n",
       "True       2378\n",
       "Name: convert_TF, dtype: int64"
      ]
     },
     "execution_count": 4,
     "metadata": {},
     "output_type": "execute_result"
    }
   ],
   "source": [
    "df.convert_TF.value_counts()"
   ]
  },
  {
   "cell_type": "code",
   "execution_count": 5,
   "metadata": {},
   "outputs": [],
   "source": [
    "df_True = df[df.convert_TF == True]"
   ]
  },
  {
   "cell_type": "code",
   "execution_count": 6,
   "metadata": {},
   "outputs": [],
   "source": [
    "spending = pd.read_csv('channel_spend_student_data.csv')"
   ]
  },
  {
   "cell_type": "code",
   "execution_count": 7,
   "metadata": {},
   "outputs": [
    {
     "name": "stderr",
     "output_type": "stream",
     "text": [
      "C:\\Users\\hahas\\Anaconda3\\lib\\site-packages\\ipykernel_launcher.py:1: FutureWarning: Passing a negative integer is deprecated in version 1.0 and will not be supported in future version. Instead, use None to not limit the column width.\n",
      "  \"\"\"Entry point for launching an IPython kernel.\n"
     ]
    }
   ],
   "source": [
    "pd.set_option('display.max_colwidth', -1)"
   ]
  },
  {
   "cell_type": "code",
   "execution_count": 8,
   "metadata": {
    "scrolled": false
   },
   "outputs": [
    {
     "data": {
      "text/html": [
       "<div>\n",
       "<style scoped>\n",
       "    .dataframe tbody tr th:only-of-type {\n",
       "        vertical-align: middle;\n",
       "    }\n",
       "\n",
       "    .dataframe tbody tr th {\n",
       "        vertical-align: top;\n",
       "    }\n",
       "\n",
       "    .dataframe thead th {\n",
       "        text-align: right;\n",
       "    }\n",
       "</style>\n",
       "<table border=\"1\" class=\"dataframe\">\n",
       "  <thead>\n",
       "    <tr style=\"text-align: right;\">\n",
       "      <th></th>\n",
       "      <th>tier</th>\n",
       "      <th>spend by channel</th>\n",
       "    </tr>\n",
       "  </thead>\n",
       "  <tbody>\n",
       "    <tr>\n",
       "      <th>0</th>\n",
       "      <td>1</td>\n",
       "      <td>{'social': 50, 'organic_search': 0, 'referral': 50, 'email': 50, 'paid_search': 50, 'display': 50, 'direct': 0}</td>\n",
       "    </tr>\n",
       "    <tr>\n",
       "      <th>1</th>\n",
       "      <td>2</td>\n",
       "      <td>{'social': 100, 'organic_search': 0, 'referral': 100, 'email': 100, 'paid_search': 100, 'display': 100, 'direct': 0}</td>\n",
       "    </tr>\n",
       "    <tr>\n",
       "      <th>2</th>\n",
       "      <td>3</td>\n",
       "      <td>{'social': 150, 'organic_search': 0, 'referral': 150, 'email': 150, 'paid_search': 150, 'display': 150, 'direct': 0}</td>\n",
       "    </tr>\n",
       "    <tr>\n",
       "      <th>3</th>\n",
       "      <td>total</td>\n",
       "      <td>{'social': 300, 'organic_search': 0, 'referral': 300, 'email': 300, 'paid_search': 300, 'display': 300, 'direct': 0}</td>\n",
       "    </tr>\n",
       "  </tbody>\n",
       "</table>\n",
       "</div>"
      ],
      "text/plain": [
       "    tier  \\\n",
       "0  1       \n",
       "1  2       \n",
       "2  3       \n",
       "3  total   \n",
       "\n",
       "                                                                                                       spend by channel  \n",
       "0  {'social': 50, 'organic_search': 0, 'referral': 50, 'email': 50, 'paid_search': 50, 'display': 50, 'direct': 0}       \n",
       "1  {'social': 100, 'organic_search': 0, 'referral': 100, 'email': 100, 'paid_search': 100, 'display': 100, 'direct': 0}  \n",
       "2  {'social': 150, 'organic_search': 0, 'referral': 150, 'email': 150, 'paid_search': 150, 'display': 150, 'direct': 0}  \n",
       "3  {'social': 300, 'organic_search': 0, 'referral': 300, 'email': 300, 'paid_search': 300, 'display': 300, 'direct': 0}  "
      ]
     },
     "execution_count": 8,
     "metadata": {},
     "output_type": "execute_result"
    }
   ],
   "source": [
    "spending"
   ]
  },
  {
   "cell_type": "markdown",
   "metadata": {},
   "source": [
    "## Attribution: Allocate conversions by channel"
   ]
  },
  {
   "cell_type": "markdown",
   "metadata": {},
   "source": [
    "### Calculate CAC for each of the channels"
   ]
  },
  {
   "cell_type": "markdown",
   "metadata": {},
   "source": [
    "### (Method1) Last interaction"
   ]
  },
  {
   "cell_type": "code",
   "execution_count": 9,
   "metadata": {},
   "outputs": [],
   "source": [
    "from collections import defaultdict\n",
    "dic1 = defaultdict(list)\n",
    "\n",
    "for k in list(range(1,4)):    \n",
    "    dic2 = defaultdict(int)\n",
    "    for i, row in df_True[df_True.tier == k].iterrows():\n",
    "        if pd.isnull(row.touch_5) != True:\n",
    "            dic2[row.touch_5] += 1 \n",
    "        elif pd.isnull(row.touch_5) == True:\n",
    "            if pd.isnull(row.touch_4) != True:\n",
    "                dic2[row.touch_4] += 1\n",
    "            elif pd.isnull(row.touch_4) == True:\n",
    "                if pd.isnull(row.touch_3) != True:\n",
    "                    dic2[row.touch_3] += 1\n",
    "                elif pd.isnull(row.touch_3) == True:\n",
    "                    if pd.isnull(row.touch_2) != True:\n",
    "                        dic2[row.touch_2] += 1\n",
    "                    elif pd.isnull(row.touch_2) == True:\n",
    "                        if pd.isnull(row.touch_1) != True:\n",
    "                            dic2[row.touch_1] += 1\n",
    "    dic1[k].append(dic2)"
   ]
  },
  {
   "cell_type": "code",
   "execution_count": 10,
   "metadata": {
    "scrolled": true
   },
   "outputs": [
    {
     "data": {
      "text/plain": [
       "defaultdict(list,\n",
       "            {1: [defaultdict(int,\n",
       "                          {'social': 58,\n",
       "                           'organic_search': 121,\n",
       "                           'direct': 122,\n",
       "                           'display': 72,\n",
       "                           'email': 65,\n",
       "                           'paid_search': 2,\n",
       "                           'referral': 1})],\n",
       "             2: [defaultdict(int,\n",
       "                          {'direct': 197,\n",
       "                           'social': 129,\n",
       "                           'organic_search': 223,\n",
       "                           'display': 159,\n",
       "                           'email': 99,\n",
       "                           'referral': 2,\n",
       "                           'paid_search': 2})],\n",
       "             3: [defaultdict(int,\n",
       "                          {'direct': 294,\n",
       "                           'display': 175,\n",
       "                           'social': 165,\n",
       "                           'organic_search': 318,\n",
       "                           'email': 159,\n",
       "                           'paid_search': 8,\n",
       "                           'referral': 7})]})"
      ]
     },
     "execution_count": 10,
     "metadata": {},
     "output_type": "execute_result"
    }
   ],
   "source": [
    "dic1"
   ]
  },
  {
   "cell_type": "code",
   "execution_count": 11,
   "metadata": {},
   "outputs": [
    {
     "name": "stdout",
     "output_type": "stream",
     "text": [
      "social_conversions = 352\n",
      "organic_search_conversions = 662\n",
      "email_conversions = 323\n",
      "display_conversions = 406\n",
      "direct_conversions = 613\n",
      "referral_conversions = 10\n",
      "paid_search_conversions = 12\n"
     ]
    }
   ],
   "source": [
    "# Calculate total number of converions by channel \n",
    "tier_list = ['social', 'organic_search', 'email', 'display', 'direct', 'referral', 'paid_search']\n",
    "for tier in tier_list:\n",
    "    if tier not in ['direct','organic_search']:\n",
    "        CAC =  dic1[1][0][tier] + dic1[2][0][tier] + dic1[3][0][tier]\n",
    "        print(tier + \"_conversions = \"+ str(round(CAC,2)))\n",
    "    elif tier in ['direct','organic_search']:\n",
    "        CAC = dic1[1][0][tier] + dic1[2][0][tier] + dic1[3][0][tier]\n",
    "        print(tier + \"_conversions = \"+ str(round(CAC,2)))"
   ]
  },
  {
   "cell_type": "code",
   "execution_count": 12,
   "metadata": {},
   "outputs": [
    {
     "name": "stdout",
     "output_type": "stream",
     "text": [
      "social_CAC = 0.85\n",
      "organic_search_CAC = 0.0\n",
      "email_CAC = 0.93\n",
      "display_CAC = 0.74\n",
      "direct_CAC = 0.0\n",
      "referral_CAC = 30.0\n",
      "paid_search_CAC = 25.0\n"
     ]
    }
   ],
   "source": [
    "# Calculate CACs by channel \n",
    "tier_list = ['social', 'organic_search', 'email', 'display', 'direct', 'referral', 'paid_search']\n",
    "for tier in tier_list:\n",
    "    if tier not in ['direct','organic_search']:\n",
    "        CAC =  300 / (dic1[1][0][tier] + dic1[2][0][tier] + dic1[3][0][tier])\n",
    "        print(tier + \"_CAC = \"+ str(round(CAC,2)))\n",
    "    elif tier in ['direct','organic_search']:\n",
    "        CAC = 0 / (dic1[1][0][tier] + dic1[2][0][tier] + dic1[3][0][tier])\n",
    "        print(tier + \"_CAC = \"+ str(round(CAC,2)))"
   ]
  },
  {
   "cell_type": "markdown",
   "metadata": {},
   "source": [
    "### (Method2) Position Based"
   ]
  },
  {
   "cell_type": "code",
   "execution_count": 13,
   "metadata": {},
   "outputs": [],
   "source": [
    "from collections import defaultdict\n",
    "dic1 = defaultdict(list)\n",
    "\n",
    "for k in list(range(1,4)):\n",
    "    dic2 = defaultdict(int)\n",
    "    for i, row in df_True[df_True.tier == k].iterrows():\n",
    "        if pd.isnull(row.touch_5) != True:\n",
    "            dic2[row.touch_1] += 0.4\n",
    "            dic2[row.touch_2] += 0.2/3\n",
    "            dic2[row.touch_3] += 0.2/3\n",
    "            dic2[row.touch_4] += 0.2/3\n",
    "            dic2[row.touch_5] += 0.4\n",
    "        elif pd.isnull(row.touch_5) == True:\n",
    "            if pd.isnull(row.touch_4) != True:\n",
    "                dic2[row.touch_1] += 0.4\n",
    "                dic2[row.touch_2] += 0.2/2\n",
    "                dic2[row.touch_3] += 0.2/2\n",
    "                dic2[row.touch_4] += 0.4\n",
    "            elif pd.isnull(row.touch_4) == True:\n",
    "                if pd.isnull(row.touch_3) != True:\n",
    "                    dic2[row.touch_1] += 0.4\n",
    "                    dic2[row.touch_2] += 0.2\n",
    "                    dic2[row.touch_3] += 0.4\n",
    "                elif pd.isnull(row.touch_3) == True:\n",
    "                    if pd.isnull(row.touch_2) != True:\n",
    "                        dic2[row.touch_1] += .5\n",
    "                        dic2[row.touch_2] += .5\n",
    "                    elif pd.isnull(row.touch_2) == True:\n",
    "                        if pd.isnull(row.touch_1) != True:\n",
    "                            dic2[row.touch_1] += 1\n",
    "    dic1[k].append(dic2)          "
   ]
  },
  {
   "cell_type": "code",
   "execution_count": 14,
   "metadata": {},
   "outputs": [
    {
     "data": {
      "text/plain": [
       "defaultdict(list,\n",
       "            {1: [defaultdict(int,\n",
       "                          {'email': 64.53333333333333,\n",
       "                           'direct': 105.70000000000013,\n",
       "                           'social': 65.83333333333336,\n",
       "                           'organic_search': 118.10000000000032,\n",
       "                           'display': 83.40000000000012,\n",
       "                           'referral': 1.4,\n",
       "                           'paid_search': 2.033333333333333})],\n",
       "             2: [defaultdict(int,\n",
       "                          {'organic_search': 226.7666666666671,\n",
       "                           'display': 158.30000000000044,\n",
       "                           'social': 126.23333333333368,\n",
       "                           'email': 110.73333333333366,\n",
       "                           'direct': 183.6000000000003,\n",
       "                           'paid_search': 3.2666666666666666,\n",
       "                           'referral': 2.1})],\n",
       "             3: [defaultdict(int,\n",
       "                          {'social': 157.23333333333372,\n",
       "                           'organic_search': 324.16666666666504,\n",
       "                           'email': 165.3000000000003,\n",
       "                           'display': 175.00000000000037,\n",
       "                           'direct': 291.56666666666604,\n",
       "                           'referral': 6.800000000000001,\n",
       "                           'paid_search': 5.933333333333334})]})"
      ]
     },
     "execution_count": 14,
     "metadata": {},
     "output_type": "execute_result"
    }
   ],
   "source": [
    "dic1"
   ]
  },
  {
   "cell_type": "code",
   "execution_count": 15,
   "metadata": {},
   "outputs": [
    {
     "name": "stdout",
     "output_type": "stream",
     "text": [
      "social_conversions = 349.3\n",
      "organic_search_conversions = 669.03\n",
      "email_conversions = 340.57\n",
      "display_conversions = 416.7\n",
      "direct_conversions = 580.87\n",
      "referral_conversions = 10.3\n",
      "paid_search_conversions = 11.23\n"
     ]
    }
   ],
   "source": [
    "# Calculate total number of converions by channel \n",
    "tier_list = ['social', 'organic_search', 'email', 'display', 'direct', 'referral', 'paid_search']\n",
    "for tier in tier_list:\n",
    "    if tier not in ['direct','organic_search']:\n",
    "        CAC =  dic1[1][0][tier] + dic1[2][0][tier] + dic1[3][0][tier]\n",
    "        print(tier + \"_conversions = \"+ str(round(CAC,2)))\n",
    "    elif tier in ['direct','organic_search']:\n",
    "        CAC = dic1[1][0][tier] + dic1[2][0][tier] + dic1[3][0][tier]\n",
    "        print(tier + \"_conversions = \"+ str(round(CAC,2)))"
   ]
  },
  {
   "cell_type": "code",
   "execution_count": 16,
   "metadata": {
    "scrolled": true
   },
   "outputs": [
    {
     "name": "stdout",
     "output_type": "stream",
     "text": [
      "social_CAC = 0.86\n",
      "organic_search_CAC = 0.0\n",
      "email_CAC = 0.88\n",
      "display_CAC = 0.72\n",
      "direct_CAC = 0.0\n",
      "referral_CAC = 29.13\n",
      "paid_search_CAC = 26.71\n"
     ]
    }
   ],
   "source": [
    "# Calculate CACs by channel \n",
    "tier_list = ['social', 'organic_search', 'email', 'display', 'direct', 'referral', 'paid_search']\n",
    "for tier in tier_list:\n",
    "    if tier not in ['direct','organic_search']:\n",
    "        CAC =  300 / (dic1[1][0][tier] + dic1[2][0][tier] + dic1[3][0][tier])\n",
    "        print(tier + \"_CAC = \"+ str(round(CAC,2)))\n",
    "    elif tier in ['direct','organic_search']:\n",
    "        CAC = 0 / (dic1[1][0][tier] + dic1[2][0][tier] + dic1[3][0][tier])\n",
    "        print(tier + \"_CAC = \"+ str(round(CAC,2)))"
   ]
  },
  {
   "cell_type": "markdown",
   "metadata": {},
   "source": [
    "### (Method3) Linear"
   ]
  },
  {
   "cell_type": "code",
   "execution_count": 17,
   "metadata": {},
   "outputs": [],
   "source": [
    "from collections import defaultdict\n",
    "dic1 = defaultdict(list)\n",
    "\n",
    "for k in list(range(1,4)):\n",
    "    dic2 = defaultdict(int)\n",
    "    for i, row in df_True[df_True.tier == k].iterrows():\n",
    "        if pd.isnull(row.touch_5) != True:\n",
    "            dic2[row.touch_1] += 1/5\n",
    "            dic2[row.touch_2] += 1/5\n",
    "            dic2[row.touch_3] += 1/5\n",
    "            dic2[row.touch_4] += 1/5\n",
    "            dic2[row.touch_5] += 1/5\n",
    "        if pd.isnull(row.touch_5) == True:\n",
    "            if pd.isnull(row.touch_4) != True:\n",
    "                dic2[row.touch_1] += 1/4\n",
    "                dic2[row.touch_2] += 1/4\n",
    "                dic2[row.touch_3] += 1/4\n",
    "                dic2[row.touch_4] += 1/4\n",
    "            if pd.isnull(row.touch_4) == True:\n",
    "                if pd.isnull(row.touch_3) != True:\n",
    "                    dic2[row.touch_1] += 1/3\n",
    "                    dic2[row.touch_2] += 1/3\n",
    "                    dic2[row.touch_3] += 1/3\n",
    "                if pd.isnull(row.touch_3) == True:\n",
    "                    if pd.isnull(row.touch_2) != True:\n",
    "                        dic2[row.touch_1] += .5\n",
    "                        dic2[row.touch_2] += .5\n",
    "                    if pd.isnull(row.touch_2) == True:\n",
    "                        if pd.isnull(row.touch_1) != True:\n",
    "                            dic2[row.touch_1] += 1\n",
    "    dic1[k].append(dic2)   "
   ]
  },
  {
   "cell_type": "code",
   "execution_count": 18,
   "metadata": {
    "scrolled": true
   },
   "outputs": [
    {
     "data": {
      "text/plain": [
       "defaultdict(list,\n",
       "            {1: [defaultdict(int,\n",
       "                          {'email': 62.71666666666676,\n",
       "                           'direct': 102.66666666666664,\n",
       "                           'social': 68.58333333333346,\n",
       "                           'organic_search': 117.63333333333317,\n",
       "                           'display': 85.91666666666664,\n",
       "                           'referral': 1.3333333333333333,\n",
       "                           'paid_search': 2.15})],\n",
       "             2: [defaultdict(int,\n",
       "                          {'organic_search': 225.28333333333356,\n",
       "                           'display': 153.86666666666653,\n",
       "                           'social': 129.1166666666666,\n",
       "                           'email': 111.9166666666666,\n",
       "                           'direct': 185.03333333333353,\n",
       "                           'paid_search': 3.066666666666667,\n",
       "                           'referral': 2.716666666666667})],\n",
       "             3: [defaultdict(int,\n",
       "                          {'social': 155.46666666666667,\n",
       "                           'organic_search': 324.41666666666515,\n",
       "                           'email': 162.98333333333346,\n",
       "                           'display': 176.88333333333324,\n",
       "                           'direct': 294.66666666666646,\n",
       "                           'referral': 6.2333333333333325,\n",
       "                           'paid_search': 5.3500000000000005})]})"
      ]
     },
     "execution_count": 18,
     "metadata": {},
     "output_type": "execute_result"
    }
   ],
   "source": [
    "dic1"
   ]
  },
  {
   "cell_type": "code",
   "execution_count": 19,
   "metadata": {},
   "outputs": [
    {
     "name": "stdout",
     "output_type": "stream",
     "text": [
      "social_conversions = 353.17\n",
      "organic_search_conversions = 667.33\n",
      "email_conversions = 337.62\n",
      "display_conversions = 416.67\n",
      "direct_conversions = 582.37\n",
      "referral_conversions = 10.28\n",
      "paid_search_conversions = 10.57\n"
     ]
    }
   ],
   "source": [
    "# Calculate total number of converions by channel \n",
    "tier_list = ['social', 'organic_search', 'email', 'display', 'direct', 'referral', 'paid_search']\n",
    "for tier in tier_list:\n",
    "    if tier not in ['direct','organic_search']:\n",
    "        CAC =  dic1[1][0][tier] + dic1[2][0][tier] + dic1[3][0][tier]\n",
    "        print(tier + \"_conversions = \"+ str(round(CAC,2)))\n",
    "    elif tier in ['direct','organic_search']:\n",
    "        CAC = dic1[1][0][tier] + dic1[2][0][tier] + dic1[3][0][tier]\n",
    "        print(tier + \"_conversions = \"+ str(round(CAC,2)))"
   ]
  },
  {
   "cell_type": "code",
   "execution_count": 20,
   "metadata": {},
   "outputs": [
    {
     "name": "stdout",
     "output_type": "stream",
     "text": [
      "social_CAC = 0.85\n",
      "organic_search_CAC = 0.0\n",
      "email_CAC = 0.89\n",
      "display_CAC = 0.72\n",
      "direct_CAC = 0.0\n",
      "referral_CAC = 29.17\n",
      "paid_search_CAC = 28.39\n"
     ]
    }
   ],
   "source": [
    "# Calculate CACs by channel \n",
    "tier_list = ['social', 'organic_search', 'email', 'display', 'direct', 'referral', 'paid_search']\n",
    "for tier in tier_list:\n",
    "    if tier not in ['direct','organic_search']:\n",
    "        CAC =  300 / (dic1[1][0][tier] + dic1[2][0][tier] + dic1[3][0][tier])\n",
    "        print(tier + \"_CAC = \"+ str(round(CAC,2)))\n",
    "    elif tier in ['direct','organic_search']:\n",
    "        CAC = 0 / (dic1[1][0][tier] + dic1[2][0][tier] + dic1[3][0][tier])\n",
    "        print(tier + \"_CAC = \"+ str(round(CAC,2)))"
   ]
  },
  {
   "cell_type": "markdown",
   "metadata": {},
   "source": [
    "### (Method4) First interaction"
   ]
  },
  {
   "cell_type": "code",
   "execution_count": 21,
   "metadata": {},
   "outputs": [],
   "source": [
    "from collections import defaultdict\n",
    "dic1 = defaultdict(list)\n",
    "\n",
    "for k in list(range(1,4)):\n",
    "    dic2 = defaultdict(int)\n",
    "    for i, row in df_True[df_True.tier == k].iterrows():\n",
    "        if pd.isnull(row.touch_1) != True:\n",
    "            dic2[row.touch_1] += 1\n",
    "    dic1[k].append(dic2)   "
   ]
  },
  {
   "cell_type": "code",
   "execution_count": 22,
   "metadata": {},
   "outputs": [
    {
     "data": {
      "text/plain": [
       "defaultdict(list,\n",
       "            {1: [defaultdict(int,\n",
       "                          {'email': 67,\n",
       "                           'social': 71,\n",
       "                           'organic_search': 113,\n",
       "                           'direct': 94,\n",
       "                           'display': 92,\n",
       "                           'paid_search': 2,\n",
       "                           'referral': 2})],\n",
       "             2: [defaultdict(int,\n",
       "                          {'organic_search': 233,\n",
       "                           'social': 118,\n",
       "                           'direct': 171,\n",
       "                           'email': 116,\n",
       "                           'display': 167,\n",
       "                           'paid_search': 5,\n",
       "                           'referral': 1})],\n",
       "             3: [defaultdict(int,\n",
       "                          {'social': 151,\n",
       "                           'email': 174,\n",
       "                           'direct': 285,\n",
       "                           'display': 175,\n",
       "                           'organic_search': 329,\n",
       "                           'referral': 7,\n",
       "                           'paid_search': 5})]})"
      ]
     },
     "execution_count": 22,
     "metadata": {},
     "output_type": "execute_result"
    }
   ],
   "source": [
    "dic1"
   ]
  },
  {
   "cell_type": "code",
   "execution_count": 23,
   "metadata": {},
   "outputs": [
    {
     "name": "stdout",
     "output_type": "stream",
     "text": [
      "social_conversions = 340\n",
      "organic_search_conversions = 675\n",
      "email_conversions = 357\n",
      "display_conversions = 434\n",
      "direct_conversions = 550\n",
      "referral_conversions = 10\n",
      "paid_search_conversions = 12\n"
     ]
    }
   ],
   "source": [
    "# Calculate total number of converions by channel \n",
    "tier_list = ['social', 'organic_search', 'email', 'display', 'direct', 'referral', 'paid_search']\n",
    "for tier in tier_list:\n",
    "    if tier not in ['direct','organic_search']:\n",
    "        CAC =  dic1[1][0][tier] + dic1[2][0][tier] + dic1[3][0][tier]\n",
    "        print(tier + \"_conversions = \"+ str(round(CAC,2)))\n",
    "    elif tier in ['direct','organic_search']:\n",
    "        CAC = dic1[1][0][tier] + dic1[2][0][tier] + dic1[3][0][tier]\n",
    "        print(tier + \"_conversions = \"+ str(round(CAC,2)))"
   ]
  },
  {
   "cell_type": "code",
   "execution_count": 24,
   "metadata": {},
   "outputs": [
    {
     "name": "stdout",
     "output_type": "stream",
     "text": [
      "social_CAC = 0.88\n",
      "organic_search_CAC = 0.0\n",
      "email_CAC = 0.84\n",
      "display_CAC = 0.69\n",
      "direct_CAC = 0.0\n",
      "referral_CAC = 30.0\n",
      "paid_search_CAC = 25.0\n"
     ]
    }
   ],
   "source": [
    "# Calculate CACs by channel \n",
    "tier_list = ['social', 'organic_search', 'email', 'display', 'direct', 'referral', 'paid_search']\n",
    "for tier in tier_list:\n",
    "    if tier not in ['direct','organic_search']:\n",
    "        CAC =  300 / (dic1[1][0][tier] + dic1[2][0][tier] + dic1[3][0][tier])\n",
    "        print(tier + \"_CAC = \"+ str(round(CAC,2)))\n",
    "    elif tier in ['direct','organic_search']:\n",
    "        CAC = 0 / (dic1[1][0][tier] + dic1[2][0][tier] + dic1[3][0][tier])\n",
    "        print(tier + \"_CAC = \"+ str(round(CAC,2)))"
   ]
  },
  {
   "cell_type": "markdown",
   "metadata": {},
   "source": [
    "### (Method5) Last non-direct interaction"
   ]
  },
  {
   "cell_type": "code",
   "execution_count": 25,
   "metadata": {},
   "outputs": [],
   "source": [
    "from collections import defaultdict\n",
    "dic1 = defaultdict(list)\n",
    "\n",
    "for k in list(range(1,4)):    \n",
    "    dic2 = defaultdict(int)\n",
    "    for i, row in df_True[df_True.tier == k].iterrows():\n",
    "        if pd.isnull(row.touch_5) != True and row.touch_5 != 'direct':\n",
    "            dic2[row.touch_5] += 1 \n",
    "        elif (row.touch_5 == 'direct') or (pd.isnull(row.touch_5) == True):\n",
    "            if pd.isnull(row.touch_4) != True and row.touch_4 != 'direct':\n",
    "                dic2[row.touch_4] += 1\n",
    "            elif (row.touch_4 == 'direct') or (pd.isnull(row.touch_4) == True):\n",
    "                if pd.isnull(row.touch_3) != True and row.touch_3 != 'direct':\n",
    "                    dic2[row.touch_3] += 1\n",
    "                elif (row.touch_3 == 'direct') or (pd.isnull(row.touch_3) == True):\n",
    "                    if pd.isnull(row.touch_2) != True and row.touch_2 != 'direct':\n",
    "                        dic2[row.touch_2] += 1\n",
    "                    elif (row.touch_2 == 'direct') or (pd.isnull(row.touch_2) == True):\n",
    "                        if pd.isnull(row.touch_1) != True and row.touch_1 != 'direct':\n",
    "                            dic2[row.touch_1] += 1\n",
    "                        else:\n",
    "                            dic2[row.touch_1] += 1\n",
    "    dic1[k].append(dic2)"
   ]
  },
  {
   "cell_type": "code",
   "execution_count": 26,
   "metadata": {},
   "outputs": [
    {
     "data": {
      "text/plain": [
       "defaultdict(list,\n",
       "            {1: [defaultdict(int,\n",
       "                          {'social': 83,\n",
       "                           'organic_search': 163,\n",
       "                           'display': 100,\n",
       "                           'email': 80,\n",
       "                           'referral': 2,\n",
       "                           'paid_search': 3,\n",
       "                           'direct': 10})],\n",
       "             2: [defaultdict(int,\n",
       "                          {'email': 130,\n",
       "                           'organic_search': 298,\n",
       "                           'social': 166,\n",
       "                           'display': 199,\n",
       "                           'referral': 4,\n",
       "                           'direct': 12,\n",
       "                           'paid_search': 2})],\n",
       "             3: [defaultdict(int,\n",
       "                          {'display': 226,\n",
       "                           'social': 205,\n",
       "                           'organic_search': 435,\n",
       "                           'email': 216,\n",
       "                           'paid_search': 9,\n",
       "                           'referral': 8,\n",
       "                           'direct': 27})]})"
      ]
     },
     "execution_count": 26,
     "metadata": {},
     "output_type": "execute_result"
    }
   ],
   "source": [
    "dic1"
   ]
  },
  {
   "cell_type": "code",
   "execution_count": 27,
   "metadata": {},
   "outputs": [
    {
     "name": "stdout",
     "output_type": "stream",
     "text": [
      "social_conversions = 454\n",
      "organic_search_conversions = 896\n",
      "email_conversions = 426\n",
      "display_conversions = 525\n",
      "direct_conversions = 49\n",
      "referral_conversions = 14\n",
      "paid_search_conversions = 14\n"
     ]
    }
   ],
   "source": [
    "# Calculate total number of converions by channel \n",
    "tier_list = ['social', 'organic_search', 'email', 'display', 'direct', 'referral', 'paid_search']\n",
    "for tier in tier_list:\n",
    "    if tier not in ['direct','organic_search']:\n",
    "        CAC =  dic1[1][0][tier] + dic1[2][0][tier] + dic1[3][0][tier]\n",
    "        print(tier + \"_conversions = \"+ str(round(CAC,2)))\n",
    "    elif tier in ['direct','organic_search']:\n",
    "        CAC = dic1[1][0][tier] + dic1[2][0][tier] + dic1[3][0][tier]\n",
    "        print(tier + \"_conversions = \"+ str(round(CAC,2)))"
   ]
  },
  {
   "cell_type": "code",
   "execution_count": 28,
   "metadata": {},
   "outputs": [
    {
     "name": "stdout",
     "output_type": "stream",
     "text": [
      "social_CAC = 0.66\n",
      "organic_search_CAC = 0.0\n",
      "email_CAC = 0.7\n",
      "display_CAC = 0.57\n",
      "direct_CAC = 0.0\n",
      "referral_CAC = 21.43\n",
      "paid_search_CAC = 21.43\n"
     ]
    }
   ],
   "source": [
    "# Calculate CACs by channel \n",
    "tier_list = ['social', 'organic_search', 'email', 'display', 'direct', 'referral', 'paid_search']\n",
    "for tier in tier_list:\n",
    "    if tier not in ['direct','organic_search']:\n",
    "        CAC =  300 / (dic1[1][0][tier] + dic1[2][0][tier] + dic1[3][0][tier])\n",
    "        print(tier + \"_CAC = \"+ str(round(CAC,2)))\n",
    "    elif tier in ['direct','organic_search']:\n",
    "        CAC = 0 / (dic1[1][0][tier] + dic1[2][0][tier] + dic1[3][0][tier])\n",
    "        print(tier + \"_CAC = \"+ str(round(CAC,2)))"
   ]
  },
  {
   "cell_type": "markdown",
   "metadata": {},
   "source": [
    "# Visualization"
   ]
  },
  {
   "cell_type": "code",
   "execution_count": 29,
   "metadata": {},
   "outputs": [],
   "source": [
    "import seaborn as sns"
   ]
  },
  {
   "cell_type": "code",
   "execution_count": 30,
   "metadata": {
    "scrolled": true
   },
   "outputs": [
    {
     "data": {
      "text/html": [
       "<div>\n",
       "<style scoped>\n",
       "    .dataframe tbody tr th:only-of-type {\n",
       "        vertical-align: middle;\n",
       "    }\n",
       "\n",
       "    .dataframe tbody tr th {\n",
       "        vertical-align: top;\n",
       "    }\n",
       "\n",
       "    .dataframe thead th {\n",
       "        text-align: right;\n",
       "    }\n",
       "</style>\n",
       "<table border=\"1\" class=\"dataframe\">\n",
       "  <thead>\n",
       "    <tr style=\"text-align: right;\">\n",
       "      <th></th>\n",
       "      <th>social_CAC</th>\n",
       "      <th>organic_search_CAC</th>\n",
       "      <th>email_CAC</th>\n",
       "      <th>display_CAC</th>\n",
       "      <th>direct_CAC</th>\n",
       "      <th>referral_CAC</th>\n",
       "      <th>paid_search_CAC</th>\n",
       "    </tr>\n",
       "  </thead>\n",
       "  <tbody>\n",
       "    <tr>\n",
       "      <th>Last interaction</th>\n",
       "      <td>0.85</td>\n",
       "      <td>0</td>\n",
       "      <td>0.93</td>\n",
       "      <td>0.74</td>\n",
       "      <td>0</td>\n",
       "      <td>30.00</td>\n",
       "      <td>25.00</td>\n",
       "    </tr>\n",
       "    <tr>\n",
       "      <th>Position_based</th>\n",
       "      <td>0.86</td>\n",
       "      <td>0</td>\n",
       "      <td>0.88</td>\n",
       "      <td>0.72</td>\n",
       "      <td>0</td>\n",
       "      <td>29.13</td>\n",
       "      <td>26.71</td>\n",
       "    </tr>\n",
       "    <tr>\n",
       "      <th>Linear</th>\n",
       "      <td>0.85</td>\n",
       "      <td>0</td>\n",
       "      <td>0.89</td>\n",
       "      <td>0.72</td>\n",
       "      <td>0</td>\n",
       "      <td>29.17</td>\n",
       "      <td>28.39</td>\n",
       "    </tr>\n",
       "    <tr>\n",
       "      <th>First interaction</th>\n",
       "      <td>0.88</td>\n",
       "      <td>0</td>\n",
       "      <td>0.84</td>\n",
       "      <td>0.69</td>\n",
       "      <td>0</td>\n",
       "      <td>30.00</td>\n",
       "      <td>25.00</td>\n",
       "    </tr>\n",
       "    <tr>\n",
       "      <th>Last non-direct interaction</th>\n",
       "      <td>0.66</td>\n",
       "      <td>0</td>\n",
       "      <td>0.70</td>\n",
       "      <td>0.57</td>\n",
       "      <td>0</td>\n",
       "      <td>21.43</td>\n",
       "      <td>21.43</td>\n",
       "    </tr>\n",
       "  </tbody>\n",
       "</table>\n",
       "</div>"
      ],
      "text/plain": [
       "                             social_CAC  organic_search_CAC  email_CAC  \\\n",
       "Last interaction             0.85        0                   0.93        \n",
       "Position_based               0.86        0                   0.88        \n",
       "Linear                       0.85        0                   0.89        \n",
       "First interaction            0.88        0                   0.84        \n",
       "Last non-direct interaction  0.66        0                   0.70        \n",
       "\n",
       "                             display_CAC  direct_CAC  referral_CAC  \\\n",
       "Last interaction             0.74         0           30.00          \n",
       "Position_based               0.72         0           29.13          \n",
       "Linear                       0.72         0           29.17          \n",
       "First interaction            0.69         0           30.00          \n",
       "Last non-direct interaction  0.57         0           21.43          \n",
       "\n",
       "                             paid_search_CAC  \n",
       "Last interaction             25.00            \n",
       "Position_based               26.71            \n",
       "Linear                       28.39            \n",
       "First interaction            25.00            \n",
       "Last non-direct interaction  21.43            "
      ]
     },
     "execution_count": 30,
     "metadata": {},
     "output_type": "execute_result"
    }
   ],
   "source": [
    "viz_dt = {'social_CAC':[.85,.86,.85,.88,.66],\n",
    "         'organic_search_CAC':[0,0,0,0,0],\n",
    "         'email_CAC':[.93,0.88,.89,.84,.7],\n",
    "         'display_CAC':[.74,.72,.72,.69,.57],\n",
    "         'direct_CAC':[0,0,0,0,0],\n",
    "         'referral_CAC':[30.0,29.13,29.17,30.0,21.43],\n",
    "         'paid_search_CAC':[25.0,26.71,28.39,25.0,21.43]}\n",
    "\n",
    "viz= pd.DataFrame(viz_dt, index=['Last interaction','Position_based','Linear','First interaction','Last non-direct interaction'])\n",
    "\n",
    "viz"
   ]
  },
  {
   "cell_type": "code",
   "execution_count": 32,
   "metadata": {
    "scrolled": true
   },
   "outputs": [
    {
     "data": {
      "image/png": "[encoded data removed]",
      "text/plain": [
       "<Figure size 432x288 with 1 Axes>"
      ]
     },
     "metadata": {
      "needs_background": "light"
     },
     "output_type": "display_data"
    }
   ],
   "source": [
    "# plotting average CAC by attribution method\n",
    "viz[['social_CAC','email_CAC', 'display_CAC', 'referral_CAC', 'paid_search_CAC']].plot(kind='bar',color=['lightslategray','steelblue','powderblue', 'lavender', 'lightskyblue']);"
   ]
  },
  {
   "cell_type": "code",
   "execution_count": 33,
   "metadata": {
    "scrolled": false
   },
   "outputs": [
    {
     "data": {
      "image/png": "[encoded data removed]",
      "text/plain": [
       "<Figure size 432x288 with 1 Axes>"
      ]
     },
     "metadata": {
      "needs_background": "light"
     },
     "output_type": "display_data"
    }
   ],
   "source": [
    "# plotting average CAC by channel\n",
    "viz[['social_CAC', 'email_CAC','display_CAC','referral_CAC', 'paid_search_CAC']].T.plot(kind='bar',color=['powderblue', 'lavender', 'lightskyblue', 'steelblue', 'lightslategray']);"
   ]
  },
  {
   "cell_type": "markdown",
   "metadata": {},
   "source": [
    "## Allocation"
   ]
  },
  {
   "cell_type": "markdown",
   "metadata": {},
   "source": [
    "### We chose 'last non-direct interation' method"
   ]
  },
  {
   "cell_type": "code",
   "execution_count": 34,
   "metadata": {},
   "outputs": [],
   "source": [
    "# calculate the marginal CAC by spending tier by channel\n",
    "\n",
    "df_channels = pd.DataFrame()\n",
    "tier_list = ['social', 'organic_search', 'email', 'display', 'direct', 'referral', 'paid_search']\n",
    "for tier in tier_list:\n",
    "    if tier not in ['organic_search','direct']:\n",
    "        data = {'Cumulative spend':[50,100,150],\n",
    "           'Cumulative number of conversions':[dic1[1][0][tier],dic1[2][0][tier],dic1[3][0][tier]],\n",
    "           'Average CAC':[50/dic1[1][0][tier], 100/(dic1[2][0][tier]), 150/(dic1[3][0][tier])],\n",
    "           'Marginal spend':[50,50,50],\n",
    "           'Marginal conversions':[dic1[1][0][tier],dic1[2][0][tier]-dic1[1][0][tier],dic1[3][0][tier]-dic1[2][0][tier]],\n",
    "           'Marginal CAC':[50/(dic1[1][0][tier]), 50/(dic1[2][0][tier]-dic1[1][0][tier]), 50/(dic1[3][0][tier]-dic1[2][0][tier])],\n",
    "               'Channel':tier}\n",
    "    elif tier in ['organic_search','direct']:\n",
    "            data = {'Cumulative spend':[0,0,0],\n",
    "           'Cumulative number of conversions':[dic1[1][0][tier],dic1[2][0][tier],dic1[3][0][tier]],\n",
    "           'Average CAC':[0/dic1[1][0][tier], 0/(dic1[2][0][tier]), 0/dic1[3][0][tier]],\n",
    "           'Marginal spend':[0,0,0],\n",
    "           'Marginal conversions':[dic1[1][0][tier],dic1[2][0][tier]-dic1[1][0][tier],dic1[3][0][tier]-dic1[2][0][tier]],\n",
    "           'Marginal CAC':[0/(dic1[1][0][tier]), 0/(dic1[2][0][tier]-dic1[1][0][tier]), 0/(dic1[3][0][tier]-dic1[2][0][tier])],\n",
    "               'Channel':tier}\n",
    "\n",
    "    df_channel = pd.DataFrame(data, index =['tier1','tier2','tier3'])\n",
    "    df_channels = pd.concat([df_channels, df_channel])"
   ]
  },
  {
   "cell_type": "code",
   "execution_count": 35,
   "metadata": {
    "scrolled": true
   },
   "outputs": [
    {
     "data": {
      "text/html": [
       "<div>\n",
       "<style scoped>\n",
       "    .dataframe tbody tr th:only-of-type {\n",
       "        vertical-align: middle;\n",
       "    }\n",
       "\n",
       "    .dataframe tbody tr th {\n",
       "        vertical-align: top;\n",
       "    }\n",
       "\n",
       "    .dataframe thead th {\n",
       "        text-align: right;\n",
       "    }\n",
       "</style>\n",
       "<table border=\"1\" class=\"dataframe\">\n",
       "  <thead>\n",
       "    <tr style=\"text-align: right;\">\n",
       "      <th></th>\n",
       "      <th>Cumulative spend</th>\n",
       "      <th>Cumulative number of conversions</th>\n",
       "      <th>Average CAC</th>\n",
       "      <th>Marginal spend</th>\n",
       "      <th>Marginal conversions</th>\n",
       "      <th>Marginal CAC</th>\n",
       "      <th>Channel</th>\n",
       "    </tr>\n",
       "  </thead>\n",
       "  <tbody>\n",
       "    <tr>\n",
       "      <th>tier1</th>\n",
       "      <td>50</td>\n",
       "      <td>83</td>\n",
       "      <td>0.602410</td>\n",
       "      <td>50</td>\n",
       "      <td>83</td>\n",
       "      <td>0.602410</td>\n",
       "      <td>social</td>\n",
       "    </tr>\n",
       "    <tr>\n",
       "      <th>tier2</th>\n",
       "      <td>100</td>\n",
       "      <td>166</td>\n",
       "      <td>0.602410</td>\n",
       "      <td>50</td>\n",
       "      <td>83</td>\n",
       "      <td>0.602410</td>\n",
       "      <td>social</td>\n",
       "    </tr>\n",
       "    <tr>\n",
       "      <th>tier3</th>\n",
       "      <td>150</td>\n",
       "      <td>205</td>\n",
       "      <td>0.731707</td>\n",
       "      <td>50</td>\n",
       "      <td>39</td>\n",
       "      <td>1.282051</td>\n",
       "      <td>social</td>\n",
       "    </tr>\n",
       "    <tr>\n",
       "      <th>tier1</th>\n",
       "      <td>0</td>\n",
       "      <td>163</td>\n",
       "      <td>0.000000</td>\n",
       "      <td>0</td>\n",
       "      <td>163</td>\n",
       "      <td>0.000000</td>\n",
       "      <td>organic_search</td>\n",
       "    </tr>\n",
       "    <tr>\n",
       "      <th>tier2</th>\n",
       "      <td>0</td>\n",
       "      <td>298</td>\n",
       "      <td>0.000000</td>\n",
       "      <td>0</td>\n",
       "      <td>135</td>\n",
       "      <td>0.000000</td>\n",
       "      <td>organic_search</td>\n",
       "    </tr>\n",
       "    <tr>\n",
       "      <th>tier3</th>\n",
       "      <td>0</td>\n",
       "      <td>435</td>\n",
       "      <td>0.000000</td>\n",
       "      <td>0</td>\n",
       "      <td>137</td>\n",
       "      <td>0.000000</td>\n",
       "      <td>organic_search</td>\n",
       "    </tr>\n",
       "    <tr>\n",
       "      <th>tier1</th>\n",
       "      <td>50</td>\n",
       "      <td>80</td>\n",
       "      <td>0.625000</td>\n",
       "      <td>50</td>\n",
       "      <td>80</td>\n",
       "      <td>0.625000</td>\n",
       "      <td>email</td>\n",
       "    </tr>\n",
       "    <tr>\n",
       "      <th>tier2</th>\n",
       "      <td>100</td>\n",
       "      <td>130</td>\n",
       "      <td>0.769231</td>\n",
       "      <td>50</td>\n",
       "      <td>50</td>\n",
       "      <td>1.000000</td>\n",
       "      <td>email</td>\n",
       "    </tr>\n",
       "    <tr>\n",
       "      <th>tier3</th>\n",
       "      <td>150</td>\n",
       "      <td>216</td>\n",
       "      <td>0.694444</td>\n",
       "      <td>50</td>\n",
       "      <td>86</td>\n",
       "      <td>0.581395</td>\n",
       "      <td>email</td>\n",
       "    </tr>\n",
       "    <tr>\n",
       "      <th>tier1</th>\n",
       "      <td>50</td>\n",
       "      <td>100</td>\n",
       "      <td>0.500000</td>\n",
       "      <td>50</td>\n",
       "      <td>100</td>\n",
       "      <td>0.500000</td>\n",
       "      <td>display</td>\n",
       "    </tr>\n",
       "    <tr>\n",
       "      <th>tier2</th>\n",
       "      <td>100</td>\n",
       "      <td>199</td>\n",
       "      <td>0.502513</td>\n",
       "      <td>50</td>\n",
       "      <td>99</td>\n",
       "      <td>0.505051</td>\n",
       "      <td>display</td>\n",
       "    </tr>\n",
       "    <tr>\n",
       "      <th>tier3</th>\n",
       "      <td>150</td>\n",
       "      <td>226</td>\n",
       "      <td>0.663717</td>\n",
       "      <td>50</td>\n",
       "      <td>27</td>\n",
       "      <td>1.851852</td>\n",
       "      <td>display</td>\n",
       "    </tr>\n",
       "    <tr>\n",
       "      <th>tier1</th>\n",
       "      <td>0</td>\n",
       "      <td>10</td>\n",
       "      <td>0.000000</td>\n",
       "      <td>0</td>\n",
       "      <td>10</td>\n",
       "      <td>0.000000</td>\n",
       "      <td>direct</td>\n",
       "    </tr>\n",
       "    <tr>\n",
       "      <th>tier2</th>\n",
       "      <td>0</td>\n",
       "      <td>12</td>\n",
       "      <td>0.000000</td>\n",
       "      <td>0</td>\n",
       "      <td>2</td>\n",
       "      <td>0.000000</td>\n",
       "      <td>direct</td>\n",
       "    </tr>\n",
       "    <tr>\n",
       "      <th>tier3</th>\n",
       "      <td>0</td>\n",
       "      <td>27</td>\n",
       "      <td>0.000000</td>\n",
       "      <td>0</td>\n",
       "      <td>15</td>\n",
       "      <td>0.000000</td>\n",
       "      <td>direct</td>\n",
       "    </tr>\n",
       "    <tr>\n",
       "      <th>tier1</th>\n",
       "      <td>50</td>\n",
       "      <td>2</td>\n",
       "      <td>25.000000</td>\n",
       "      <td>50</td>\n",
       "      <td>2</td>\n",
       "      <td>25.000000</td>\n",
       "      <td>referral</td>\n",
       "    </tr>\n",
       "    <tr>\n",
       "      <th>tier2</th>\n",
       "      <td>100</td>\n",
       "      <td>4</td>\n",
       "      <td>25.000000</td>\n",
       "      <td>50</td>\n",
       "      <td>2</td>\n",
       "      <td>25.000000</td>\n",
       "      <td>referral</td>\n",
       "    </tr>\n",
       "    <tr>\n",
       "      <th>tier3</th>\n",
       "      <td>150</td>\n",
       "      <td>8</td>\n",
       "      <td>18.750000</td>\n",
       "      <td>50</td>\n",
       "      <td>4</td>\n",
       "      <td>12.500000</td>\n",
       "      <td>referral</td>\n",
       "    </tr>\n",
       "    <tr>\n",
       "      <th>tier1</th>\n",
       "      <td>50</td>\n",
       "      <td>3</td>\n",
       "      <td>16.666667</td>\n",
       "      <td>50</td>\n",
       "      <td>3</td>\n",
       "      <td>16.666667</td>\n",
       "      <td>paid_search</td>\n",
       "    </tr>\n",
       "    <tr>\n",
       "      <th>tier2</th>\n",
       "      <td>100</td>\n",
       "      <td>2</td>\n",
       "      <td>50.000000</td>\n",
       "      <td>50</td>\n",
       "      <td>-1</td>\n",
       "      <td>-50.000000</td>\n",
       "      <td>paid_search</td>\n",
       "    </tr>\n",
       "    <tr>\n",
       "      <th>tier3</th>\n",
       "      <td>150</td>\n",
       "      <td>9</td>\n",
       "      <td>16.666667</td>\n",
       "      <td>50</td>\n",
       "      <td>7</td>\n",
       "      <td>7.142857</td>\n",
       "      <td>paid_search</td>\n",
       "    </tr>\n",
       "  </tbody>\n",
       "</table>\n",
       "</div>"
      ],
      "text/plain": [
       "       Cumulative spend  Cumulative number of conversions  Average CAC  \\\n",
       "tier1  50                83                                0.602410      \n",
       "tier2  100               166                               0.602410      \n",
       "tier3  150               205                               0.731707      \n",
       "tier1  0                 163                               0.000000      \n",
       "tier2  0                 298                               0.000000      \n",
       "tier3  0                 435                               0.000000      \n",
       "tier1  50                80                                0.625000      \n",
       "tier2  100               130                               0.769231      \n",
       "tier3  150               216                               0.694444      \n",
       "tier1  50                100                               0.500000      \n",
       "tier2  100               199                               0.502513      \n",
       "tier3  150               226                               0.663717      \n",
       "tier1  0                 10                                0.000000      \n",
       "tier2  0                 12                                0.000000      \n",
       "tier3  0                 27                                0.000000      \n",
       "tier1  50                2                                 25.000000     \n",
       "tier2  100               4                                 25.000000     \n",
       "tier3  150               8                                 18.750000     \n",
       "tier1  50                3                                 16.666667     \n",
       "tier2  100               2                                 50.000000     \n",
       "tier3  150               9                                 16.666667     \n",
       "\n",
       "       Marginal spend  Marginal conversions  Marginal CAC         Channel  \n",
       "tier1  50              83                    0.602410      social          \n",
       "tier2  50              83                    0.602410      social          \n",
       "tier3  50              39                    1.282051      social          \n",
       "tier1  0               163                   0.000000      organic_search  \n",
       "tier2  0               135                   0.000000      organic_search  \n",
       "tier3  0               137                   0.000000      organic_search  \n",
       "tier1  50              80                    0.625000      email           \n",
       "tier2  50              50                    1.000000      email           \n",
       "tier3  50              86                    0.581395      email           \n",
       "tier1  50              100                   0.500000      display         \n",
       "tier2  50              99                    0.505051      display         \n",
       "tier3  50              27                    1.851852      display         \n",
       "tier1  0               10                    0.000000      direct          \n",
       "tier2  0               2                     0.000000      direct          \n",
       "tier3  0               15                    0.000000      direct          \n",
       "tier1  50              2                     25.000000     referral        \n",
       "tier2  50              2                     25.000000     referral        \n",
       "tier3  50              4                     12.500000     referral        \n",
       "tier1  50              3                     16.666667     paid_search     \n",
       "tier2  50             -1                    -50.000000     paid_search     \n",
       "tier3  50              7                     7.142857      paid_search     "
      ]
     },
     "execution_count": 35,
     "metadata": {},
     "output_type": "execute_result"
    }
   ],
   "source": [
    "df_channels"
   ]
  },
  {
   "cell_type": "code",
   "execution_count": 36,
   "metadata": {
    "scrolled": true
   },
   "outputs": [
    {
     "data": {
      "text/html": [
       "<div>\n",
       "<style scoped>\n",
       "    .dataframe tbody tr th:only-of-type {\n",
       "        vertical-align: middle;\n",
       "    }\n",
       "\n",
       "    .dataframe tbody tr th {\n",
       "        vertical-align: top;\n",
       "    }\n",
       "\n",
       "    .dataframe thead th {\n",
       "        text-align: right;\n",
       "    }\n",
       "</style>\n",
       "<table border=\"1\" class=\"dataframe\">\n",
       "  <thead>\n",
       "    <tr style=\"text-align: right;\">\n",
       "      <th>Channel</th>\n",
       "      <th>direct</th>\n",
       "      <th>display</th>\n",
       "      <th>email</th>\n",
       "      <th>organic_search</th>\n",
       "      <th>paid_search</th>\n",
       "      <th>referral</th>\n",
       "      <th>social</th>\n",
       "    </tr>\n",
       "  </thead>\n",
       "  <tbody>\n",
       "    <tr>\n",
       "      <th>tier1</th>\n",
       "      <td>0.0</td>\n",
       "      <td>0.500000</td>\n",
       "      <td>0.625000</td>\n",
       "      <td>0.0</td>\n",
       "      <td>16.666667</td>\n",
       "      <td>25.0</td>\n",
       "      <td>0.602410</td>\n",
       "    </tr>\n",
       "    <tr>\n",
       "      <th>tier2</th>\n",
       "      <td>0.0</td>\n",
       "      <td>0.505051</td>\n",
       "      <td>1.000000</td>\n",
       "      <td>0.0</td>\n",
       "      <td>-50.000000</td>\n",
       "      <td>25.0</td>\n",
       "      <td>0.602410</td>\n",
       "    </tr>\n",
       "    <tr>\n",
       "      <th>tier3</th>\n",
       "      <td>0.0</td>\n",
       "      <td>1.851852</td>\n",
       "      <td>0.581395</td>\n",
       "      <td>0.0</td>\n",
       "      <td>7.142857</td>\n",
       "      <td>12.5</td>\n",
       "      <td>1.282051</td>\n",
       "    </tr>\n",
       "  </tbody>\n",
       "</table>\n",
       "</div>"
      ],
      "text/plain": [
       "Channel  direct   display     email  organic_search  paid_search  referral  \\\n",
       "tier1    0.0     0.500000  0.625000  0.0             16.666667    25.0       \n",
       "tier2    0.0     0.505051  1.000000  0.0            -50.000000    25.0       \n",
       "tier3    0.0     1.851852  0.581395  0.0             7.142857     12.5       \n",
       "\n",
       "Channel    social  \n",
       "tier1    0.602410  \n",
       "tier2    0.602410  \n",
       "tier3    1.282051  "
      ]
     },
     "execution_count": 36,
     "metadata": {},
     "output_type": "execute_result"
    }
   ],
   "source": [
    "# create a pivot table (CAC)\n",
    "\n",
    "Marginal_CAC_table = pd.pivot_table(df_channels, index=df_channels.index, columns='Channel', values='Marginal CAC')\n",
    "Marginal_CAC_table"
   ]
  },
  {
   "cell_type": "code",
   "execution_count": 37,
   "metadata": {},
   "outputs": [
    {
     "data": {
      "text/html": [
       "<div>\n",
       "<style scoped>\n",
       "    .dataframe tbody tr th:only-of-type {\n",
       "        vertical-align: middle;\n",
       "    }\n",
       "\n",
       "    .dataframe tbody tr th {\n",
       "        vertical-align: top;\n",
       "    }\n",
       "\n",
       "    .dataframe thead th {\n",
       "        text-align: right;\n",
       "    }\n",
       "</style>\n",
       "<table border=\"1\" class=\"dataframe\">\n",
       "  <thead>\n",
       "    <tr style=\"text-align: right;\">\n",
       "      <th>Channel</th>\n",
       "      <th>direct</th>\n",
       "      <th>display</th>\n",
       "      <th>email</th>\n",
       "      <th>organic_search</th>\n",
       "      <th>paid_search</th>\n",
       "      <th>referral</th>\n",
       "      <th>social</th>\n",
       "    </tr>\n",
       "  </thead>\n",
       "  <tbody>\n",
       "    <tr>\n",
       "      <th>tier1</th>\n",
       "      <td>inf</td>\n",
       "      <td>100.0</td>\n",
       "      <td>80.0</td>\n",
       "      <td>inf</td>\n",
       "      <td>3.0</td>\n",
       "      <td>2.0</td>\n",
       "      <td>83.0</td>\n",
       "    </tr>\n",
       "    <tr>\n",
       "      <th>tier2</th>\n",
       "      <td>inf</td>\n",
       "      <td>99.0</td>\n",
       "      <td>50.0</td>\n",
       "      <td>inf</td>\n",
       "      <td>-1.0</td>\n",
       "      <td>2.0</td>\n",
       "      <td>83.0</td>\n",
       "    </tr>\n",
       "    <tr>\n",
       "      <th>tier3</th>\n",
       "      <td>inf</td>\n",
       "      <td>27.0</td>\n",
       "      <td>86.0</td>\n",
       "      <td>inf</td>\n",
       "      <td>7.0</td>\n",
       "      <td>4.0</td>\n",
       "      <td>39.0</td>\n",
       "    </tr>\n",
       "  </tbody>\n",
       "</table>\n",
       "</div>"
      ],
      "text/plain": [
       "Channel  direct  display  email  organic_search  paid_search  referral  social\n",
       "tier1    inf     100.0    80.0   inf             3.0          2.0       83.0  \n",
       "tier2    inf     99.0     50.0   inf            -1.0          2.0       83.0  \n",
       "tier3    inf     27.0     86.0   inf             7.0          4.0       39.0  "
      ]
     },
     "execution_count": 37,
     "metadata": {},
     "output_type": "execute_result"
    }
   ],
   "source": [
    "# create a pivot table (# of converions)\n",
    "\n",
    "Number_of_conversions = pd.DataFrame(50/Marginal_CAC_table.iloc[0])\n",
    "Number_of_conversions = Number_of_conversions.join(50/Marginal_CAC_table.iloc[1])\n",
    "Number_of_conversions = Number_of_conversions.join(50/Marginal_CAC_table.iloc[2])\n",
    "Number_of_conversions = Number_of_conversions.T\n",
    "round(Number_of_conversions,0)"
   ]
  }
 ],
 "metadata": {
  "kernelspec": {
   "display_name": "local-venv",
   "language": "python",
   "name": "local-venv"
  },
  "language_info": {
   "codemirror_mode": {
    "name": "ipython",
    "version": 3
   },
   "file_extension": ".py",
   "mimetype": "text/x-python",
   "name": "python",
   "nbconvert_exporter": "python",
   "pygments_lexer": "ipython3",
   "version": "3.7.3"
  }
 },
 "nbformat": 4,
 "nbformat_minor": 4
}
