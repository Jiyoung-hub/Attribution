{
 "cells": [
  {
   "cell_type": "markdown",
   "metadata": {},
   "source": [
    "### Evaluate Effectiveness in terms of CAC\n",
    "\n",
    "1.Last interaction : display > social > email > paid_search> referral \n",
    "\n",
    "2.Position_based   : display > social > email > paid_search > referral \n",
    "\n",
    "3.Linear           : display > social > email > paid_search > referral \n",
    "\n",
    "4.First interaction: display > email > social > paid_search > referral \n",
    "\n",
    "5.Last non-direct  : display > social > email > referral > paid_search \n",
    "\n",
    "In most cases, display > social > email > paid_search> referral"
   ]
  },
  {
   "cell_type": "markdown",
   "metadata": {},
   "source": [
    "### When it's useful\n",
    "1.Last interaction : when sales cycle does not involve a consideration phase\n",
    "\n",
    "2.Position_based   : When you value touchpoints that introduced customers and resulted in sales\n",
    "\n",
    "3.Linear           : when your ads are designed to maintain contact throught entire cycle\n",
    "\n",
    "4.First interaction: When you are starting off/want to create initial awareness\n",
    "\n",
    "5.Last non-direct  : when you want to filter out direct traffic"
   ]
  },
  {
   "cell_type": "markdown",
   "metadata": {},
   "source": [
    "### Allocate 250 dollars\n",
    "\n",
    "display tier1:  USD 50 \n",
    "\n",
    "display tier2: USD 100\n",
    "\n",
    "social tier1:   USD 50\n",
    "\n",
    "email tier1 :   USD 50\n",
    "\n",
    "The assumed number of customers = 83+158+66+65"
   ]
  },
  {
   "cell_type": "markdown",
   "metadata": {},
   "source": [
    "## Read data"
   ]
  },
  {
   "cell_type": "code",
   "execution_count": 1,
   "metadata": {},
   "outputs": [],
   "source": [
    "import numpy as np\n",
    "import pandas as pd"
   ]
  },
  {
   "cell_type": "code",
   "execution_count": 2,
   "metadata": {},
   "outputs": [],
   "source": [
    "df = pd.read_csv('attribution_allocation_student_data.csv')"
   ]
  },
  {
   "cell_type": "code",
   "execution_count": 3,
   "metadata": {
    "scrolled": true
   },
   "outputs": [
    {
     "data": {
      "text/html": [
       "<div>\n",
       "<style scoped>\n",
       "    .dataframe tbody tr th:only-of-type {\n",
       "        vertical-align: middle;\n",
       "    }\n",
       "\n",
       "    .dataframe tbody tr th {\n",
       "        vertical-align: top;\n",
       "    }\n",
       "\n",
       "    .dataframe thead th {\n",
       "        text-align: right;\n",
       "    }\n",
       "</style>\n",
       "<table border=\"1\" class=\"dataframe\">\n",
       "  <thead>\n",
       "    <tr style=\"text-align: right;\">\n",
       "      <th></th>\n",
       "      <th>convert_TF</th>\n",
       "      <th>touch_1</th>\n",
       "      <th>touch_2</th>\n",
       "      <th>touch_3</th>\n",
       "      <th>touch_4</th>\n",
       "      <th>touch_5</th>\n",
       "      <th>tier</th>\n",
       "    </tr>\n",
       "  </thead>\n",
       "  <tbody>\n",
       "    <tr>\n",
       "      <th>0</th>\n",
       "      <td>True</td>\n",
       "      <td>email</td>\n",
       "      <td>direct</td>\n",
       "      <td>social</td>\n",
       "      <td>NaN</td>\n",
       "      <td>NaN</td>\n",
       "      <td>1</td>\n",
       "    </tr>\n",
       "    <tr>\n",
       "      <th>1</th>\n",
       "      <td>True</td>\n",
       "      <td>social</td>\n",
       "      <td>direct</td>\n",
       "      <td>organic_search</td>\n",
       "      <td>NaN</td>\n",
       "      <td>NaN</td>\n",
       "      <td>1</td>\n",
       "    </tr>\n",
       "    <tr>\n",
       "      <th>2</th>\n",
       "      <td>True</td>\n",
       "      <td>organic_search</td>\n",
       "      <td>display</td>\n",
       "      <td>social</td>\n",
       "      <td>NaN</td>\n",
       "      <td>NaN</td>\n",
       "      <td>1</td>\n",
       "    </tr>\n",
       "    <tr>\n",
       "      <th>3</th>\n",
       "      <td>True</td>\n",
       "      <td>social</td>\n",
       "      <td>direct</td>\n",
       "      <td>NaN</td>\n",
       "      <td>NaN</td>\n",
       "      <td>NaN</td>\n",
       "      <td>1</td>\n",
       "    </tr>\n",
       "    <tr>\n",
       "      <th>4</th>\n",
       "      <td>True</td>\n",
       "      <td>social</td>\n",
       "      <td>display</td>\n",
       "      <td>direct</td>\n",
       "      <td>NaN</td>\n",
       "      <td>NaN</td>\n",
       "      <td>1</td>\n",
       "    </tr>\n",
       "  </tbody>\n",
       "</table>\n",
       "</div>"
      ],
      "text/plain": [
       "   convert_TF         touch_1  touch_2         touch_3 touch_4 touch_5  tier\n",
       "0        True           email   direct          social     NaN     NaN     1\n",
       "1        True          social   direct  organic_search     NaN     NaN     1\n",
       "2        True  organic_search  display          social     NaN     NaN     1\n",
       "3        True          social   direct             NaN     NaN     NaN     1\n",
       "4        True          social  display          direct     NaN     NaN     1"
      ]
     },
     "execution_count": 3,
     "metadata": {},
     "output_type": "execute_result"
    }
   ],
   "source": [
    "df.head()"
   ]
  },
  {
   "cell_type": "code",
   "execution_count": 4,
   "metadata": {},
   "outputs": [
    {
     "data": {
      "text/plain": [
       "3    109206\n",
       "2     72804\n",
       "1     36402\n",
       "Name: tier, dtype: int64"
      ]
     },
     "execution_count": 4,
     "metadata": {},
     "output_type": "execute_result"
    }
   ],
   "source": [
    "df.tier.value_counts()"
   ]
  },
  {
   "cell_type": "code",
   "execution_count": 5,
   "metadata": {},
   "outputs": [],
   "source": [
    "spending = pd.read_csv('channel_spend_student_data.csv')"
   ]
  },
  {
   "cell_type": "code",
   "execution_count": 6,
   "metadata": {
    "scrolled": true
   },
   "outputs": [
    {
     "data": {
      "text/html": [
       "<div>\n",
       "<style scoped>\n",
       "    .dataframe tbody tr th:only-of-type {\n",
       "        vertical-align: middle;\n",
       "    }\n",
       "\n",
       "    .dataframe tbody tr th {\n",
       "        vertical-align: top;\n",
       "    }\n",
       "\n",
       "    .dataframe thead th {\n",
       "        text-align: right;\n",
       "    }\n",
       "</style>\n",
       "<table border=\"1\" class=\"dataframe\">\n",
       "  <thead>\n",
       "    <tr style=\"text-align: right;\">\n",
       "      <th></th>\n",
       "      <th>tier</th>\n",
       "      <th>spend by channel</th>\n",
       "    </tr>\n",
       "  </thead>\n",
       "  <tbody>\n",
       "    <tr>\n",
       "      <th>0</th>\n",
       "      <td>1</td>\n",
       "      <td>{'social': 50, 'organic_search': 0, 'referral'...</td>\n",
       "    </tr>\n",
       "    <tr>\n",
       "      <th>1</th>\n",
       "      <td>2</td>\n",
       "      <td>{'social': 100, 'organic_search': 0, 'referral...</td>\n",
       "    </tr>\n",
       "    <tr>\n",
       "      <th>2</th>\n",
       "      <td>3</td>\n",
       "      <td>{'social': 150, 'organic_search': 0, 'referral...</td>\n",
       "    </tr>\n",
       "    <tr>\n",
       "      <th>3</th>\n",
       "      <td>total</td>\n",
       "      <td>{'social': 300, 'organic_search': 0, 'referral...</td>\n",
       "    </tr>\n",
       "  </tbody>\n",
       "</table>\n",
       "</div>"
      ],
      "text/plain": [
       "    tier                                   spend by channel\n",
       "0      1  {'social': 50, 'organic_search': 0, 'referral'...\n",
       "1      2  {'social': 100, 'organic_search': 0, 'referral...\n",
       "2      3  {'social': 150, 'organic_search': 0, 'referral...\n",
       "3  total  {'social': 300, 'organic_search': 0, 'referral..."
      ]
     },
     "execution_count": 6,
     "metadata": {},
     "output_type": "execute_result"
    }
   ],
   "source": [
    "spending"
   ]
  },
  {
   "cell_type": "code",
   "execution_count": 7,
   "metadata": {
    "scrolled": true
   },
   "outputs": [],
   "source": [
    "#pd.set_option('display.max_colwidth', -1)"
   ]
  },
  {
   "cell_type": "markdown",
   "metadata": {},
   "source": [
    "## Attribution: Allocate conversions by channel"
   ]
  },
  {
   "cell_type": "code",
   "execution_count": 8,
   "metadata": {},
   "outputs": [],
   "source": [
    "# Test 3 methods for allocation\n",
    "# Calculate CAC for each of the channels\n",
    "# Discuss observations and potential conclusions from CAC calculations"
   ]
  },
  {
   "cell_type": "code",
   "execution_count": 9,
   "metadata": {
    "scrolled": false
   },
   "outputs": [
    {
     "data": {
      "text/html": [
       "<div>\n",
       "<style scoped>\n",
       "    .dataframe tbody tr th:only-of-type {\n",
       "        vertical-align: middle;\n",
       "    }\n",
       "\n",
       "    .dataframe tbody tr th {\n",
       "        vertical-align: top;\n",
       "    }\n",
       "\n",
       "    .dataframe thead th {\n",
       "        text-align: right;\n",
       "    }\n",
       "</style>\n",
       "<table border=\"1\" class=\"dataframe\">\n",
       "  <thead>\n",
       "    <tr style=\"text-align: right;\">\n",
       "      <th></th>\n",
       "      <th>convert_TF</th>\n",
       "      <th>touch_1</th>\n",
       "      <th>touch_2</th>\n",
       "      <th>touch_3</th>\n",
       "      <th>touch_4</th>\n",
       "      <th>touch_5</th>\n",
       "      <th>tier</th>\n",
       "    </tr>\n",
       "  </thead>\n",
       "  <tbody>\n",
       "    <tr>\n",
       "      <th>0</th>\n",
       "      <td>True</td>\n",
       "      <td>email</td>\n",
       "      <td>direct</td>\n",
       "      <td>social</td>\n",
       "      <td>NaN</td>\n",
       "      <td>NaN</td>\n",
       "      <td>1</td>\n",
       "    </tr>\n",
       "    <tr>\n",
       "      <th>1</th>\n",
       "      <td>True</td>\n",
       "      <td>social</td>\n",
       "      <td>direct</td>\n",
       "      <td>organic_search</td>\n",
       "      <td>NaN</td>\n",
       "      <td>NaN</td>\n",
       "      <td>1</td>\n",
       "    </tr>\n",
       "    <tr>\n",
       "      <th>2</th>\n",
       "      <td>True</td>\n",
       "      <td>organic_search</td>\n",
       "      <td>display</td>\n",
       "      <td>social</td>\n",
       "      <td>NaN</td>\n",
       "      <td>NaN</td>\n",
       "      <td>1</td>\n",
       "    </tr>\n",
       "    <tr>\n",
       "      <th>3</th>\n",
       "      <td>True</td>\n",
       "      <td>social</td>\n",
       "      <td>direct</td>\n",
       "      <td>NaN</td>\n",
       "      <td>NaN</td>\n",
       "      <td>NaN</td>\n",
       "      <td>1</td>\n",
       "    </tr>\n",
       "    <tr>\n",
       "      <th>4</th>\n",
       "      <td>True</td>\n",
       "      <td>social</td>\n",
       "      <td>display</td>\n",
       "      <td>direct</td>\n",
       "      <td>NaN</td>\n",
       "      <td>NaN</td>\n",
       "      <td>1</td>\n",
       "    </tr>\n",
       "  </tbody>\n",
       "</table>\n",
       "</div>"
      ],
      "text/plain": [
       "   convert_TF         touch_1  touch_2         touch_3 touch_4 touch_5  tier\n",
       "0        True           email   direct          social     NaN     NaN     1\n",
       "1        True          social   direct  organic_search     NaN     NaN     1\n",
       "2        True  organic_search  display          social     NaN     NaN     1\n",
       "3        True          social   direct             NaN     NaN     NaN     1\n",
       "4        True          social  display          direct     NaN     NaN     1"
      ]
     },
     "execution_count": 9,
     "metadata": {},
     "output_type": "execute_result"
    }
   ],
   "source": [
    "df.head()"
   ]
  },
  {
   "cell_type": "code",
   "execution_count": 10,
   "metadata": {},
   "outputs": [
    {
     "data": {
      "text/plain": [
       "False    216034\n",
       "True       2378\n",
       "Name: convert_TF, dtype: int64"
      ]
     },
     "execution_count": 10,
     "metadata": {},
     "output_type": "execute_result"
    }
   ],
   "source": [
    "df.convert_TF.value_counts()"
   ]
  },
  {
   "cell_type": "code",
   "execution_count": 11,
   "metadata": {},
   "outputs": [],
   "source": [
    "df_True = df[df.convert_TF == True]"
   ]
  },
  {
   "cell_type": "markdown",
   "metadata": {},
   "source": [
    "### (Method1) Last interaction"
   ]
  },
  {
   "cell_type": "code",
   "execution_count": 12,
   "metadata": {},
   "outputs": [],
   "source": [
    "from collections import defaultdict\n",
    "dic1 = defaultdict(list)\n",
    "\n",
    "for k in list(range(1,4)):    \n",
    "    dic2 = defaultdict(int)\n",
    "    for i, row in df_True[df_True.tier == k].iterrows():\n",
    "        if pd.isnull(row.touch_5) != True:\n",
    "            dic2[row.touch_5] += 1 \n",
    "        if pd.isnull(row.touch_5) == True:\n",
    "            if pd.isnull(row.touch_4) != True:\n",
    "                dic2[row.touch_4] += 1\n",
    "            if pd.isnull(row.touch_4) == True:\n",
    "                if pd.isnull(row.touch_3) != True:\n",
    "                    dic2[row.touch_3] += 1\n",
    "                if pd.isnull(row.touch_3) == True:\n",
    "                    if pd.isnull(row.touch_2) != True:\n",
    "                        dic2[row.touch_2] += 1\n",
    "                    if pd.isnull(row.touch_2) == True:\n",
    "                        if pd.isnull(row.touch_1) != True:\n",
    "                            dic2[row.touch_1] += 1\n",
    "    dic1[k].append(dic2)"
   ]
  },
  {
   "cell_type": "code",
   "execution_count": 13,
   "metadata": {
    "scrolled": true
   },
   "outputs": [
    {
     "data": {
      "text/plain": [
       "defaultdict(list,\n",
       "            {1: [defaultdict(int,\n",
       "                          {'social': 58,\n",
       "                           'organic_search': 121,\n",
       "                           'direct': 122,\n",
       "                           'display': 72,\n",
       "                           'email': 65,\n",
       "                           'paid_search': 2,\n",
       "                           'referral': 1})],\n",
       "             2: [defaultdict(int,\n",
       "                          {'direct': 197,\n",
       "                           'social': 129,\n",
       "                           'organic_search': 223,\n",
       "                           'display': 159,\n",
       "                           'email': 99,\n",
       "                           'referral': 2,\n",
       "                           'paid_search': 2})],\n",
       "             3: [defaultdict(int,\n",
       "                          {'direct': 294,\n",
       "                           'display': 175,\n",
       "                           'social': 165,\n",
       "                           'organic_search': 318,\n",
       "                           'email': 159,\n",
       "                           'paid_search': 8,\n",
       "                           'referral': 7})]})"
      ]
     },
     "execution_count": 13,
     "metadata": {},
     "output_type": "execute_result"
    }
   ],
   "source": [
    "dic1"
   ]
  },
  {
   "cell_type": "code",
   "execution_count": 14,
   "metadata": {},
   "outputs": [
    {
     "name": "stdout",
     "output_type": "stream",
     "text": [
      "social_CAC = 0.85\n",
      "organic_search_CAC = 0.0\n",
      "email_CAC = 0.93\n",
      "display_CAC = 0.74\n",
      "direct_CAC = 0.0\n",
      "referral_CAC = 30.0\n",
      "paid_search_CAC = 25.0\n"
     ]
    }
   ],
   "source": [
    "tier_list = ['social', 'organic_search', 'email', 'display', 'direct', 'referral', 'paid_search']\n",
    "for tier in tier_list:\n",
    "    if tier not in ['direct','organic_search']:\n",
    "        CAC =  300 / (dic1[1][0][tier] + dic1[2][0][tier] + dic1[3][0][tier])\n",
    "        print(tier + \"_CAC = \"+ str(round(CAC,2)))\n",
    "    elif tier in ['direct','organic_search']:\n",
    "        CAC = 0 / (dic1[1][0][tier] + dic1[2][0][tier] + dic1[3][0][tier])\n",
    "        print(tier + \"_CAC = \"+ str(round(CAC,2)))"
   ]
  },
  {
   "cell_type": "markdown",
   "metadata": {},
   "source": [
    "### (Method2) Position Based"
   ]
  },
  {
   "cell_type": "code",
   "execution_count": 36,
   "metadata": {},
   "outputs": [],
   "source": [
    "from collections import defaultdict\n",
    "dic1 = defaultdict(list)\n",
    "\n",
    "for k in list(range(1,4)):\n",
    "    dic2 = defaultdict(int)\n",
    "    for i, row in df_True[df_True.tier == k].iterrows():\n",
    "        if pd.isnull(row.touch_5) != True:\n",
    "            dic2[row.touch_1] += 0.4\n",
    "            dic2[row.touch_2] += 0.2/3\n",
    "            dic2[row.touch_3] += 0.2/3\n",
    "            dic2[row.touch_4] += 0.2/3\n",
    "            dic2[row.touch_5] += 0.4\n",
    "        if pd.isnull(row.touch_5) == True:\n",
    "            if pd.isnull(row.touch_4) != True:\n",
    "                dic2[row.touch_1] += 0.4\n",
    "                dic2[row.touch_2] += 0.2/2\n",
    "                dic2[row.touch_3] += 0.2/2\n",
    "                dic2[row.touch_4] += 0.4\n",
    "            if pd.isnull(row.touch_4) == True:\n",
    "                if pd.isnull(row.touch_3) != True:\n",
    "                    dic2[row.touch_1] += 0.4\n",
    "                    dic2[row.touch_2] += 0.2\n",
    "                    dic2[row.touch_3] += 0.4\n",
    "                if pd.isnull(row.touch_3) == True:\n",
    "                    if pd.isnull(row.touch_2) != True:\n",
    "                        dic2[row.touch_1] += .5\n",
    "                        dic2[row.touch_2] += .5\n",
    "                    if pd.isnull(row.touch_2) == True:\n",
    "                        if pd.isnull(row.touch_1) != True:\n",
    "                            dic2[row.touch_1] += 1\n",
    "    dic1[k].append(dic2)          "
   ]
  },
  {
   "cell_type": "code",
   "execution_count": 16,
   "metadata": {},
   "outputs": [
    {
     "data": {
      "text/plain": [
       "defaultdict(list,\n",
       "            {1: [defaultdict(int,\n",
       "                          {'email': 64.53333333333333,\n",
       "                           'direct': 105.70000000000013,\n",
       "                           'social': 65.83333333333336,\n",
       "                           'organic_search': 118.10000000000032,\n",
       "                           'display': 83.40000000000012,\n",
       "                           'referral': 1.4,\n",
       "                           'paid_search': 2.033333333333333})],\n",
       "             2: [defaultdict(int,\n",
       "                          {'organic_search': 226.7666666666671,\n",
       "                           'display': 158.30000000000044,\n",
       "                           'social': 126.23333333333368,\n",
       "                           'email': 110.73333333333366,\n",
       "                           'direct': 183.6000000000003,\n",
       "                           'paid_search': 3.2666666666666666,\n",
       "                           'referral': 2.1})],\n",
       "             3: [defaultdict(int,\n",
       "                          {'social': 157.23333333333372,\n",
       "                           'organic_search': 324.16666666666504,\n",
       "                           'email': 165.3000000000003,\n",
       "                           'display': 175.00000000000037,\n",
       "                           'direct': 291.56666666666604,\n",
       "                           'referral': 6.800000000000001,\n",
       "                           'paid_search': 5.933333333333334})]})"
      ]
     },
     "execution_count": 16,
     "metadata": {},
     "output_type": "execute_result"
    }
   ],
   "source": [
    "dic1"
   ]
  },
  {
   "cell_type": "code",
   "execution_count": 17,
   "metadata": {
    "scrolled": true
   },
   "outputs": [
    {
     "name": "stdout",
     "output_type": "stream",
     "text": [
      "social_CAC = 0.86\n",
      "organic_search_CAC = 0.0\n",
      "email_CAC = 0.88\n",
      "display_CAC = 0.72\n",
      "direct_CAC = 0.0\n",
      "referral_CAC = 29.13\n",
      "paid_search_CAC = 26.71\n"
     ]
    }
   ],
   "source": [
    "tier_list = ['social', 'organic_search', 'email', 'display', 'direct', 'referral', 'paid_search']\n",
    "for tier in tier_list:\n",
    "    if tier not in ['direct','organic_search']:\n",
    "        CAC =  300 / (dic1[1][0][tier] + dic1[2][0][tier] + dic1[3][0][tier])\n",
    "        print(tier + \"_CAC = \"+ str(round(CAC,2)))\n",
    "    elif tier in ['direct','organic_search']:\n",
    "        CAC = 0 / (dic1[1][0][tier] + dic1[2][0][tier] + dic1[3][0][tier])\n",
    "        print(tier + \"_CAC = \"+ str(round(CAC,2)))"
   ]
  },
  {
   "cell_type": "markdown",
   "metadata": {},
   "source": [
    "### (Method3) Linear"
   ]
  },
  {
   "cell_type": "code",
   "execution_count": 18,
   "metadata": {},
   "outputs": [],
   "source": [
    "from collections import defaultdict\n",
    "dic1 = defaultdict(list)\n",
    "\n",
    "for k in list(range(1,4)):\n",
    "    dic2 = defaultdict(int)\n",
    "    for i, row in df_True[df_True.tier == k].iterrows():\n",
    "        if pd.isnull(row.touch_5) != True:\n",
    "            dic2[row.touch_1] += 1/5\n",
    "            dic2[row.touch_2] += 1/5\n",
    "            dic2[row.touch_3] += 1/5\n",
    "            dic2[row.touch_4] += 1/5\n",
    "            dic2[row.touch_5] += 1/5\n",
    "        if pd.isnull(row.touch_5) == True:\n",
    "            if pd.isnull(row.touch_4) != True:\n",
    "                dic2[row.touch_1] += 1/4\n",
    "                dic2[row.touch_2] += 1/4\n",
    "                dic2[row.touch_3] += 1/4\n",
    "                dic2[row.touch_4] += 1/4\n",
    "            if pd.isnull(row.touch_4) == True:\n",
    "                if pd.isnull(row.touch_3) != True:\n",
    "                    dic2[row.touch_1] += 1/3\n",
    "                    dic2[row.touch_2] += 1/3\n",
    "                    dic2[row.touch_3] += 1/3\n",
    "                if pd.isnull(row.touch_3) == True:\n",
    "                    if pd.isnull(row.touch_2) != True:\n",
    "                        dic2[row.touch_1] += .5\n",
    "                        dic2[row.touch_2] += .5\n",
    "                    if pd.isnull(row.touch_2) == True:\n",
    "                        if pd.isnull(row.touch_1) != True:\n",
    "                            dic2[row.touch_1] += 1\n",
    "    dic1[k].append(dic2)   "
   ]
  },
  {
   "cell_type": "code",
   "execution_count": 19,
   "metadata": {},
   "outputs": [
    {
     "data": {
      "text/plain": [
       "defaultdict(list,\n",
       "            {1: [defaultdict(int,\n",
       "                          {'email': 62.71666666666676,\n",
       "                           'direct': 102.66666666666664,\n",
       "                           'social': 68.58333333333346,\n",
       "                           'organic_search': 117.63333333333317,\n",
       "                           'display': 85.91666666666664,\n",
       "                           'referral': 1.3333333333333333,\n",
       "                           'paid_search': 2.15})],\n",
       "             2: [defaultdict(int,\n",
       "                          {'organic_search': 225.28333333333356,\n",
       "                           'display': 153.86666666666653,\n",
       "                           'social': 129.1166666666666,\n",
       "                           'email': 111.9166666666666,\n",
       "                           'direct': 185.03333333333353,\n",
       "                           'paid_search': 3.066666666666667,\n",
       "                           'referral': 2.716666666666667})],\n",
       "             3: [defaultdict(int,\n",
       "                          {'social': 155.46666666666667,\n",
       "                           'organic_search': 324.41666666666515,\n",
       "                           'email': 162.98333333333346,\n",
       "                           'display': 176.88333333333324,\n",
       "                           'direct': 294.66666666666646,\n",
       "                           'referral': 6.2333333333333325,\n",
       "                           'paid_search': 5.3500000000000005})]})"
      ]
     },
     "execution_count": 19,
     "metadata": {},
     "output_type": "execute_result"
    }
   ],
   "source": [
    "dic1"
   ]
  },
  {
   "cell_type": "code",
   "execution_count": 20,
   "metadata": {},
   "outputs": [
    {
     "name": "stdout",
     "output_type": "stream",
     "text": [
      "social_CAC = 0.85\n",
      "organic_search_CAC = 0.0\n",
      "email_CAC = 0.89\n",
      "display_CAC = 0.72\n",
      "direct_CAC = 0.0\n",
      "referral_CAC = 29.17\n",
      "paid_search_CAC = 28.39\n"
     ]
    }
   ],
   "source": [
    "tier_list = ['social', 'organic_search', 'email', 'display', 'direct', 'referral', 'paid_search']\n",
    "for tier in tier_list:\n",
    "    if tier not in ['direct','organic_search']:\n",
    "        CAC =  300 / (dic1[1][0][tier] + dic1[2][0][tier] + dic1[3][0][tier])\n",
    "        print(tier + \"_CAC = \"+ str(round(CAC,2)))\n",
    "    elif tier in ['direct','organic_search']:\n",
    "        CAC = 0 / (dic1[1][0][tier] + dic1[2][0][tier] + dic1[3][0][tier])\n",
    "        print(tier + \"_CAC = \"+ str(round(CAC,2)))"
   ]
  },
  {
   "cell_type": "markdown",
   "metadata": {},
   "source": [
    "### (Method4) First interaction"
   ]
  },
  {
   "cell_type": "code",
   "execution_count": 21,
   "metadata": {},
   "outputs": [
    {
     "data": {
      "text/plain": [
       "organic_search    675\n",
       "direct            550\n",
       "display           434\n",
       "email             357\n",
       "social            340\n",
       "paid_search        12\n",
       "referral           10\n",
       "Name: touch_1, dtype: int64"
      ]
     },
     "execution_count": 21,
     "metadata": {},
     "output_type": "execute_result"
    }
   ],
   "source": [
    "df_True.touch_1.value_counts()"
   ]
  },
  {
   "cell_type": "code",
   "execution_count": 22,
   "metadata": {},
   "outputs": [],
   "source": [
    "from collections import defaultdict\n",
    "dic1 = defaultdict(list)\n",
    "\n",
    "for k in list(range(1,4)):\n",
    "    dic2 = defaultdict(int)\n",
    "    for i, row in df_True[df_True.tier == k].iterrows():\n",
    "        if pd.isnull(row.touch_1) != True:\n",
    "            dic2[row.touch_1] += 1\n",
    "    dic1[k].append(dic2)   "
   ]
  },
  {
   "cell_type": "code",
   "execution_count": 23,
   "metadata": {},
   "outputs": [
    {
     "data": {
      "text/plain": [
       "defaultdict(list,\n",
       "            {1: [defaultdict(int,\n",
       "                          {'email': 67,\n",
       "                           'social': 71,\n",
       "                           'organic_search': 113,\n",
       "                           'direct': 94,\n",
       "                           'display': 92,\n",
       "                           'paid_search': 2,\n",
       "                           'referral': 2})],\n",
       "             2: [defaultdict(int,\n",
       "                          {'organic_search': 233,\n",
       "                           'social': 118,\n",
       "                           'direct': 171,\n",
       "                           'email': 116,\n",
       "                           'display': 167,\n",
       "                           'paid_search': 5,\n",
       "                           'referral': 1})],\n",
       "             3: [defaultdict(int,\n",
       "                          {'social': 151,\n",
       "                           'email': 174,\n",
       "                           'direct': 285,\n",
       "                           'display': 175,\n",
       "                           'organic_search': 329,\n",
       "                           'referral': 7,\n",
       "                           'paid_search': 5})]})"
      ]
     },
     "execution_count": 23,
     "metadata": {},
     "output_type": "execute_result"
    }
   ],
   "source": [
    "dic1"
   ]
  },
  {
   "cell_type": "code",
   "execution_count": 24,
   "metadata": {},
   "outputs": [
    {
     "name": "stdout",
     "output_type": "stream",
     "text": [
      "social_CAC = 0.88\n",
      "organic_search_CAC = 0.0\n",
      "email_CAC = 0.84\n",
      "display_CAC = 0.69\n",
      "direct_CAC = 0.0\n",
      "referral_CAC = 30.0\n",
      "paid_search_CAC = 25.0\n"
     ]
    }
   ],
   "source": [
    "tier_list = ['social', 'organic_search', 'email', 'display', 'direct', 'referral', 'paid_search']\n",
    "for tier in tier_list:\n",
    "    if tier not in ['direct','organic_search']:\n",
    "        CAC =  300 / (dic1[1][0][tier] + dic1[2][0][tier] + dic1[3][0][tier])\n",
    "        print(tier + \"_CAC = \"+ str(round(CAC,2)))\n",
    "    elif tier in ['direct','organic_search']:\n",
    "        CAC = 0 / (dic1[1][0][tier] + dic1[2][0][tier] + dic1[3][0][tier])\n",
    "        print(tier + \"_CAC = \"+ str(round(CAC,2)))"
   ]
  },
  {
   "cell_type": "markdown",
   "metadata": {},
   "source": [
    "### (Method5) Last non-direct interaction"
   ]
  },
  {
   "cell_type": "code",
   "execution_count": 25,
   "metadata": {},
   "outputs": [],
   "source": [
    "from collections import defaultdict\n",
    "dic1 = defaultdict(list)\n",
    "\n",
    "for k in list(range(1,4)):    \n",
    "    dic2 = defaultdict(int)\n",
    "    for i, row in df_True[df_True.tier == k].iterrows():\n",
    "        if pd.isnull(row.touch_5) != True:\n",
    "            dic2[row.touch_4] += 1 \n",
    "        if pd.isnull(row.touch_5) == True:\n",
    "            if pd.isnull(row.touch_4) != True:\n",
    "                dic2[row.touch_3] += 1\n",
    "            if pd.isnull(row.touch_4) == True:\n",
    "                if pd.isnull(row.touch_3) != True:\n",
    "                    dic2[row.touch_2] += 1\n",
    "                if pd.isnull(row.touch_3) == True:\n",
    "                    if pd.isnull(row.touch_2) != True:\n",
    "                        dic2[row.touch_1] += 1\n",
    "                    if pd.isnull(row.touch_2) == True:\n",
    "                        if pd.isnull(row.touch_1) != True:\n",
    "                            dic2[row.touch_1] += 1\n",
    "    dic1[k].append(dic2)"
   ]
  },
  {
   "cell_type": "code",
   "execution_count": 26,
   "metadata": {},
   "outputs": [
    {
     "data": {
      "text/plain": [
       "defaultdict(list,\n",
       "            {1: [defaultdict(int,\n",
       "                          {'direct': 96,\n",
       "                           'display': 97,\n",
       "                           'social': 70,\n",
       "                           'email': 55,\n",
       "                           'organic_search': 120,\n",
       "                           'referral': 1,\n",
       "                           'paid_search': 2})],\n",
       "             2: [defaultdict(int,\n",
       "                          {'email': 119,\n",
       "                           'organic_search': 234,\n",
       "                           'direct': 181,\n",
       "                           'display': 139,\n",
       "                           'social': 131,\n",
       "                           'referral': 5,\n",
       "                           'paid_search': 2})],\n",
       "             3: [defaultdict(int,\n",
       "                          {'display': 169,\n",
       "                           'organic_search': 331,\n",
       "                           'social': 162,\n",
       "                           'direct': 296,\n",
       "                           'email': 158,\n",
       "                           'paid_search': 5,\n",
       "                           'referral': 5})]})"
      ]
     },
     "execution_count": 26,
     "metadata": {},
     "output_type": "execute_result"
    }
   ],
   "source": [
    "dic1"
   ]
  },
  {
   "cell_type": "code",
   "execution_count": 27,
   "metadata": {},
   "outputs": [
    {
     "name": "stdout",
     "output_type": "stream",
     "text": [
      "social_CAC = 0.83\n",
      "organic_search_CAC = 0.0\n",
      "email_CAC = 0.9\n",
      "display_CAC = 0.74\n",
      "direct_CAC = 0.0\n",
      "referral_CAC = 27.27\n",
      "paid_search_CAC = 33.33\n"
     ]
    }
   ],
   "source": [
    "tier_list = ['social', 'organic_search', 'email', 'display', 'direct', 'referral', 'paid_search']\n",
    "for tier in tier_list:\n",
    "    if tier not in ['direct','organic_search']:\n",
    "        CAC =  300 / (dic1[1][0][tier] + dic1[2][0][tier] + dic1[3][0][tier])\n",
    "        print(tier + \"_CAC = \"+ str(round(CAC,2)))\n",
    "    elif tier in ['direct','organic_search']:\n",
    "        CAC = 0 / (dic1[1][0][tier] + dic1[2][0][tier] + dic1[3][0][tier])\n",
    "        print(tier + \"_CAC = \"+ str(round(CAC,2)))"
   ]
  },
  {
   "cell_type": "markdown",
   "metadata": {},
   "source": [
    "# Visualization"
   ]
  },
  {
   "cell_type": "code",
   "execution_count": 28,
   "metadata": {},
   "outputs": [],
   "source": [
    "import seaborn as sns"
   ]
  },
  {
   "cell_type": "code",
   "execution_count": 29,
   "metadata": {
    "scrolled": true
   },
   "outputs": [
    {
     "data": {
      "text/html": [
       "<div>\n",
       "<style scoped>\n",
       "    .dataframe tbody tr th:only-of-type {\n",
       "        vertical-align: middle;\n",
       "    }\n",
       "\n",
       "    .dataframe tbody tr th {\n",
       "        vertical-align: top;\n",
       "    }\n",
       "\n",
       "    .dataframe thead th {\n",
       "        text-align: right;\n",
       "    }\n",
       "</style>\n",
       "<table border=\"1\" class=\"dataframe\">\n",
       "  <thead>\n",
       "    <tr style=\"text-align: right;\">\n",
       "      <th></th>\n",
       "      <th>social_CAC</th>\n",
       "      <th>organic_search_CAC</th>\n",
       "      <th>email_CAC</th>\n",
       "      <th>display_CAC</th>\n",
       "      <th>direct_CAC</th>\n",
       "      <th>referral_CAC</th>\n",
       "      <th>paid_search_CAC</th>\n",
       "    </tr>\n",
       "  </thead>\n",
       "  <tbody>\n",
       "    <tr>\n",
       "      <th>Last interaction</th>\n",
       "      <td>0.85</td>\n",
       "      <td>0</td>\n",
       "      <td>0.93</td>\n",
       "      <td>0.74</td>\n",
       "      <td>0</td>\n",
       "      <td>30.00</td>\n",
       "      <td>25.00</td>\n",
       "    </tr>\n",
       "    <tr>\n",
       "      <th>Position_based</th>\n",
       "      <td>0.86</td>\n",
       "      <td>0</td>\n",
       "      <td>0.88</td>\n",
       "      <td>0.72</td>\n",
       "      <td>0</td>\n",
       "      <td>29.13</td>\n",
       "      <td>26.71</td>\n",
       "    </tr>\n",
       "    <tr>\n",
       "      <th>Linear</th>\n",
       "      <td>0.85</td>\n",
       "      <td>0</td>\n",
       "      <td>0.89</td>\n",
       "      <td>0.72</td>\n",
       "      <td>0</td>\n",
       "      <td>29.17</td>\n",
       "      <td>28.39</td>\n",
       "    </tr>\n",
       "    <tr>\n",
       "      <th>First interaction</th>\n",
       "      <td>0.88</td>\n",
       "      <td>0</td>\n",
       "      <td>0.84</td>\n",
       "      <td>0.69</td>\n",
       "      <td>0</td>\n",
       "      <td>30.00</td>\n",
       "      <td>25.00</td>\n",
       "    </tr>\n",
       "    <tr>\n",
       "      <th>Last non-direct interaction</th>\n",
       "      <td>0.83</td>\n",
       "      <td>0</td>\n",
       "      <td>0.90</td>\n",
       "      <td>0.74</td>\n",
       "      <td>0</td>\n",
       "      <td>27.27</td>\n",
       "      <td>33.33</td>\n",
       "    </tr>\n",
       "  </tbody>\n",
       "</table>\n",
       "</div>"
      ],
      "text/plain": [
       "                             social_CAC  organic_search_CAC  email_CAC  \\\n",
       "Last interaction                   0.85                   0       0.93   \n",
       "Position_based                     0.86                   0       0.88   \n",
       "Linear                             0.85                   0       0.89   \n",
       "First interaction                  0.88                   0       0.84   \n",
       "Last non-direct interaction        0.83                   0       0.90   \n",
       "\n",
       "                             display_CAC  direct_CAC  referral_CAC  \\\n",
       "Last interaction                    0.74           0         30.00   \n",
       "Position_based                      0.72           0         29.13   \n",
       "Linear                              0.72           0         29.17   \n",
       "First interaction                   0.69           0         30.00   \n",
       "Last non-direct interaction         0.74           0         27.27   \n",
       "\n",
       "                             paid_search_CAC  \n",
       "Last interaction                       25.00  \n",
       "Position_based                         26.71  \n",
       "Linear                                 28.39  \n",
       "First interaction                      25.00  \n",
       "Last non-direct interaction            33.33  "
      ]
     },
     "execution_count": 29,
     "metadata": {},
     "output_type": "execute_result"
    }
   ],
   "source": [
    "viz_dt = {'social_CAC':[0.85,.86,.85,.88,.83],\n",
    "         'organic_search_CAC':[0,0,0,0,0],\n",
    "         'email_CAC':[0.93,0.88,.89,.84,.9],\n",
    "         'display_CAC':[0.74,0.72,0.72,0.69,0.74],\n",
    "         'direct_CAC':[0,0,0,0,0],\n",
    "         'referral_CAC':[30.0,29.13,29.17,30.0,27.27],\n",
    "         'paid_search_CAC':[25.0,26.71,28.39,25.0,33.33]}\n",
    "\n",
    "viz= pd.DataFrame(viz_dt, index=['Last interaction','Position_based','Linear','First interaction','Last non-direct interaction'])\n",
    "\n",
    "viz"
   ]
  },
  {
   "cell_type": "code",
   "execution_count": 30,
   "metadata": {
    "scrolled": true
   },
   "outputs": [
    {
     "data": {
      "text/plain": [
       "Index(['social_CAC', 'organic_search_CAC', 'email_CAC', 'display_CAC',\n",
       "       'direct_CAC', 'referral_CAC', 'paid_search_CAC'],\n",
       "      dtype='object')"
      ]
     },
     "execution_count": 30,
     "metadata": {},
     "output_type": "execute_result"
    }
   ],
   "source": [
    "viz.columns"
   ]
  },
  {
   "cell_type": "code",
   "execution_count": 31,
   "metadata": {
    "scrolled": true
   },
   "outputs": [
    {
     "data": {
      "image/png": "[encoded data removed]",
      "text/plain": [
       "<Figure size 432x288 with 1 Axes>"
      ]
     },
     "metadata": {
      "needs_background": "light"
     },
     "output_type": "display_data"
    }
   ],
   "source": [
    "viz[['social_CAC', 'email_CAC','display_CAC']].plot(kind='bar',color=['powderblue', 'lavender', 'lightskyblue', 'steelblue', 'lightslategray']);"
   ]
  },
  {
   "cell_type": "code",
   "execution_count": 32,
   "metadata": {},
   "outputs": [
    {
     "data": {
      "image/png": "[encoded data removed]",
      "text/plain": [
       "<Figure size 432x288 with 1 Axes>"
      ]
     },
     "metadata": {
      "needs_background": "light"
     },
     "output_type": "display_data"
    }
   ],
   "source": [
    "viz[['referral_CAC', 'paid_search_CAC']].plot(kind='bar',color=['powderblue', 'lavender', 'lightskyblue', 'steelblue', 'lightslategray']);"
   ]
  },
  {
   "cell_type": "code",
   "execution_count": 33,
   "metadata": {
    "scrolled": false
   },
   "outputs": [
    {
     "data": {
      "image/png": "[encoded data removed]",
      "text/plain": [
       "<Figure size 432x288 with 1 Axes>"
      ]
     },
     "metadata": {
      "needs_background": "light"
     },
     "output_type": "display_data"
    }
   ],
   "source": [
    "viz[['social_CAC', 'email_CAC','display_CAC']].T.plot(kind='bar',color=['powderblue', 'lavender', 'lightskyblue', 'steelblue', 'lightslategray']);"
   ]
  },
  {
   "cell_type": "code",
   "execution_count": 34,
   "metadata": {},
   "outputs": [
    {
     "data": {
      "image/png": "[encoded data removed]",
      "text/plain": [
       "<Figure size 432x288 with 1 Axes>"
      ]
     },
     "metadata": {
      "needs_background": "light"
     },
     "output_type": "display_data"
    }
   ],
   "source": [
    "viz[['referral_CAC', 'paid_search_CAC']].T.plot(kind='bar',color=['powderblue', 'lavender', 'lightskyblue', 'steelblue', 'lightslategray']);\n"
   ]
  },
  {
   "cell_type": "markdown",
   "metadata": {},
   "source": [
    "## Allocation"
   ]
  },
  {
   "cell_type": "code",
   "execution_count": 35,
   "metadata": {},
   "outputs": [],
   "source": [
    "# For one of the allocation methods, calculate the marginal CAC by spending tier by channel\n",
    "# Discuss how your observations/conclusions from the previous section may change\n",
    "# we want to allocate the same budget in $50 increments, i.e. $700 spend on display adds, $50 spend on social ads, etc. \n",
    "# Determine how you would most effectively allocate this budget."
   ]
  },
  {
   "cell_type": "markdown",
   "metadata": {},
   "source": [
    "### tier_list = ['social', 'organic_search', 'email', 'display', 'direct', 'referral', 'paid_search']"
   ]
  },
  {
   "cell_type": "code",
   "execution_count": 37,
   "metadata": {},
   "outputs": [],
   "source": [
    "df_channels = pd.DataFrame()\n",
    "tier_list = ['social', 'organic_search', 'email', 'display', 'direct', 'referral', 'paid_search']\n",
    "for tier in tier_list:\n",
    "    if tier not in ['organic_search','direct']:\n",
    "        data = {'Cumulative spend':[50,150,300],\n",
    "           'Cumulative number of conversions':[dic1[1][0][tier],(dic1[1][0][tier]+dic1[2][0][tier]),(dic1[1][0][tier]+dic1[2][0][tier]+dic1[3][0][tier])],\n",
    "           'Average CAC':[50/dic1[1][0][tier], 150/(dic1[1][0][tier]+dic1[2][0][tier]), 300/(dic1[1][0][tier]+dic1[2][0][tier]+dic1[3][0][tier])],\n",
    "           'Marginal spend':[50,100,150],\n",
    "           'Marginal conversions':[dic1[1][0][tier],dic1[2][0][tier],dic1[3][0][tier]],\n",
    "           'Marginal CAC':[50/(dic1[1][0][tier]), 100/(dic1[2][0][tier]), 150/(dic1[3][0][tier])],\n",
    "               'Channel':tier}\n",
    "    elif tier in ['organic_search','direct']:\n",
    "            data = {'Cumulative spend':[0,0,0],\n",
    "           'Cumulative number of conversions':[dic1[1][0][tier],(dic1[1][0][tier]+dic1[2][0][tier]),(dic1[1][0][tier]+dic1[2][0][tier]+dic1[3][0][tier])],\n",
    "           'Average CAC':[0/dic1[1][0][tier], 0/(dic1[1][0][tier]+dic1[2][0][tier]), 0/(dic1[1][0][tier]+dic1[2][0][tier]+dic1[3][0][tier])],\n",
    "           'Marginal spend':[0,0,0],\n",
    "           'Marginal conversions':[dic1[1][0][tier],dic1[2][0][tier],dic1[3][0][tier]],\n",
    "           'Marginal CAC':[0/(dic1[1][0][tier]), 0/(dic1[2][0][tier]), 0/(dic1[3][0][tier])],\n",
    "               'Channel':tier}\n",
    "\n",
    "    df_channel = pd.DataFrame(data, index =['tier1 ($50)','tier2 ($100)','tier3 ($150)'])\n",
    "    df_channels = pd.concat([df_channels, df_channel])"
   ]
  },
  {
   "cell_type": "code",
   "execution_count": 38,
   "metadata": {
    "scrolled": false
   },
   "outputs": [
    {
     "data": {
      "text/html": [
       "<div>\n",
       "<style scoped>\n",
       "    .dataframe tbody tr th:only-of-type {\n",
       "        vertical-align: middle;\n",
       "    }\n",
       "\n",
       "    .dataframe tbody tr th {\n",
       "        vertical-align: top;\n",
       "    }\n",
       "\n",
       "    .dataframe thead th {\n",
       "        text-align: right;\n",
       "    }\n",
       "</style>\n",
       "<table border=\"1\" class=\"dataframe\">\n",
       "  <thead>\n",
       "    <tr style=\"text-align: right;\">\n",
       "      <th></th>\n",
       "      <th>Cumulative spend</th>\n",
       "      <th>Cumulative number of conversions</th>\n",
       "      <th>Average CAC</th>\n",
       "      <th>Marginal spend</th>\n",
       "      <th>Marginal conversions</th>\n",
       "      <th>Marginal CAC</th>\n",
       "      <th>Channel</th>\n",
       "    </tr>\n",
       "  </thead>\n",
       "  <tbody>\n",
       "    <tr>\n",
       "      <th>tier1 ($50)</th>\n",
       "      <td>50</td>\n",
       "      <td>65.833333</td>\n",
       "      <td>0.759494</td>\n",
       "      <td>50</td>\n",
       "      <td>65.833333</td>\n",
       "      <td>0.759494</td>\n",
       "      <td>social</td>\n",
       "    </tr>\n",
       "    <tr>\n",
       "      <th>tier2 ($100)</th>\n",
       "      <td>150</td>\n",
       "      <td>192.066667</td>\n",
       "      <td>0.780979</td>\n",
       "      <td>100</td>\n",
       "      <td>126.233333</td>\n",
       "      <td>0.792184</td>\n",
       "      <td>social</td>\n",
       "    </tr>\n",
       "    <tr>\n",
       "      <th>tier3 ($150)</th>\n",
       "      <td>300</td>\n",
       "      <td>349.300000</td>\n",
       "      <td>0.858861</td>\n",
       "      <td>150</td>\n",
       "      <td>157.233333</td>\n",
       "      <td>0.953996</td>\n",
       "      <td>social</td>\n",
       "    </tr>\n",
       "    <tr>\n",
       "      <th>tier1 ($50)</th>\n",
       "      <td>0</td>\n",
       "      <td>118.100000</td>\n",
       "      <td>0.000000</td>\n",
       "      <td>0</td>\n",
       "      <td>118.100000</td>\n",
       "      <td>0.000000</td>\n",
       "      <td>organic_search</td>\n",
       "    </tr>\n",
       "    <tr>\n",
       "      <th>tier2 ($100)</th>\n",
       "      <td>0</td>\n",
       "      <td>344.866667</td>\n",
       "      <td>0.000000</td>\n",
       "      <td>0</td>\n",
       "      <td>226.766667</td>\n",
       "      <td>0.000000</td>\n",
       "      <td>organic_search</td>\n",
       "    </tr>\n",
       "    <tr>\n",
       "      <th>tier3 ($150)</th>\n",
       "      <td>0</td>\n",
       "      <td>669.033333</td>\n",
       "      <td>0.000000</td>\n",
       "      <td>0</td>\n",
       "      <td>324.166667</td>\n",
       "      <td>0.000000</td>\n",
       "      <td>organic_search</td>\n",
       "    </tr>\n",
       "    <tr>\n",
       "      <th>tier1 ($50)</th>\n",
       "      <td>50</td>\n",
       "      <td>64.533333</td>\n",
       "      <td>0.774793</td>\n",
       "      <td>50</td>\n",
       "      <td>64.533333</td>\n",
       "      <td>0.774793</td>\n",
       "      <td>email</td>\n",
       "    </tr>\n",
       "    <tr>\n",
       "      <th>tier2 ($100)</th>\n",
       "      <td>150</td>\n",
       "      <td>175.266667</td>\n",
       "      <td>0.855839</td>\n",
       "      <td>100</td>\n",
       "      <td>110.733333</td>\n",
       "      <td>0.903070</td>\n",
       "      <td>email</td>\n",
       "    </tr>\n",
       "    <tr>\n",
       "      <th>tier3 ($150)</th>\n",
       "      <td>300</td>\n",
       "      <td>340.566667</td>\n",
       "      <td>0.880885</td>\n",
       "      <td>150</td>\n",
       "      <td>165.300000</td>\n",
       "      <td>0.907441</td>\n",
       "      <td>email</td>\n",
       "    </tr>\n",
       "    <tr>\n",
       "      <th>tier1 ($50)</th>\n",
       "      <td>50</td>\n",
       "      <td>83.400000</td>\n",
       "      <td>0.599520</td>\n",
       "      <td>50</td>\n",
       "      <td>83.400000</td>\n",
       "      <td>0.599520</td>\n",
       "      <td>display</td>\n",
       "    </tr>\n",
       "    <tr>\n",
       "      <th>tier2 ($100)</th>\n",
       "      <td>150</td>\n",
       "      <td>241.700000</td>\n",
       "      <td>0.620604</td>\n",
       "      <td>100</td>\n",
       "      <td>158.300000</td>\n",
       "      <td>0.631712</td>\n",
       "      <td>display</td>\n",
       "    </tr>\n",
       "    <tr>\n",
       "      <th>tier3 ($150)</th>\n",
       "      <td>300</td>\n",
       "      <td>416.700000</td>\n",
       "      <td>0.719942</td>\n",
       "      <td>150</td>\n",
       "      <td>175.000000</td>\n",
       "      <td>0.857143</td>\n",
       "      <td>display</td>\n",
       "    </tr>\n",
       "    <tr>\n",
       "      <th>tier1 ($50)</th>\n",
       "      <td>0</td>\n",
       "      <td>105.700000</td>\n",
       "      <td>0.000000</td>\n",
       "      <td>0</td>\n",
       "      <td>105.700000</td>\n",
       "      <td>0.000000</td>\n",
       "      <td>direct</td>\n",
       "    </tr>\n",
       "    <tr>\n",
       "      <th>tier2 ($100)</th>\n",
       "      <td>0</td>\n",
       "      <td>289.300000</td>\n",
       "      <td>0.000000</td>\n",
       "      <td>0</td>\n",
       "      <td>183.600000</td>\n",
       "      <td>0.000000</td>\n",
       "      <td>direct</td>\n",
       "    </tr>\n",
       "    <tr>\n",
       "      <th>tier3 ($150)</th>\n",
       "      <td>0</td>\n",
       "      <td>580.866667</td>\n",
       "      <td>0.000000</td>\n",
       "      <td>0</td>\n",
       "      <td>291.566667</td>\n",
       "      <td>0.000000</td>\n",
       "      <td>direct</td>\n",
       "    </tr>\n",
       "    <tr>\n",
       "      <th>tier1 ($50)</th>\n",
       "      <td>50</td>\n",
       "      <td>1.400000</td>\n",
       "      <td>35.714286</td>\n",
       "      <td>50</td>\n",
       "      <td>1.400000</td>\n",
       "      <td>35.714286</td>\n",
       "      <td>referral</td>\n",
       "    </tr>\n",
       "    <tr>\n",
       "      <th>tier2 ($100)</th>\n",
       "      <td>150</td>\n",
       "      <td>3.500000</td>\n",
       "      <td>42.857143</td>\n",
       "      <td>100</td>\n",
       "      <td>2.100000</td>\n",
       "      <td>47.619048</td>\n",
       "      <td>referral</td>\n",
       "    </tr>\n",
       "    <tr>\n",
       "      <th>tier3 ($150)</th>\n",
       "      <td>300</td>\n",
       "      <td>10.300000</td>\n",
       "      <td>29.126214</td>\n",
       "      <td>150</td>\n",
       "      <td>6.800000</td>\n",
       "      <td>22.058824</td>\n",
       "      <td>referral</td>\n",
       "    </tr>\n",
       "    <tr>\n",
       "      <th>tier1 ($50)</th>\n",
       "      <td>50</td>\n",
       "      <td>2.033333</td>\n",
       "      <td>24.590164</td>\n",
       "      <td>50</td>\n",
       "      <td>2.033333</td>\n",
       "      <td>24.590164</td>\n",
       "      <td>paid_search</td>\n",
       "    </tr>\n",
       "    <tr>\n",
       "      <th>tier2 ($100)</th>\n",
       "      <td>150</td>\n",
       "      <td>5.300000</td>\n",
       "      <td>28.301887</td>\n",
       "      <td>100</td>\n",
       "      <td>3.266667</td>\n",
       "      <td>30.612245</td>\n",
       "      <td>paid_search</td>\n",
       "    </tr>\n",
       "    <tr>\n",
       "      <th>tier3 ($150)</th>\n",
       "      <td>300</td>\n",
       "      <td>11.233333</td>\n",
       "      <td>26.706231</td>\n",
       "      <td>150</td>\n",
       "      <td>5.933333</td>\n",
       "      <td>25.280899</td>\n",
       "      <td>paid_search</td>\n",
       "    </tr>\n",
       "  </tbody>\n",
       "</table>\n",
       "</div>"
      ],
      "text/plain": [
       "              Cumulative spend  Cumulative number of conversions  Average CAC  \\\n",
       "tier1 ($50)                 50                         65.833333     0.759494   \n",
       "tier2 ($100)               150                        192.066667     0.780979   \n",
       "tier3 ($150)               300                        349.300000     0.858861   \n",
       "tier1 ($50)                  0                        118.100000     0.000000   \n",
       "tier2 ($100)                 0                        344.866667     0.000000   \n",
       "tier3 ($150)                 0                        669.033333     0.000000   \n",
       "tier1 ($50)                 50                         64.533333     0.774793   \n",
       "tier2 ($100)               150                        175.266667     0.855839   \n",
       "tier3 ($150)               300                        340.566667     0.880885   \n",
       "tier1 ($50)                 50                         83.400000     0.599520   \n",
       "tier2 ($100)               150                        241.700000     0.620604   \n",
       "tier3 ($150)               300                        416.700000     0.719942   \n",
       "tier1 ($50)                  0                        105.700000     0.000000   \n",
       "tier2 ($100)                 0                        289.300000     0.000000   \n",
       "tier3 ($150)                 0                        580.866667     0.000000   \n",
       "tier1 ($50)                 50                          1.400000    35.714286   \n",
       "tier2 ($100)               150                          3.500000    42.857143   \n",
       "tier3 ($150)               300                         10.300000    29.126214   \n",
       "tier1 ($50)                 50                          2.033333    24.590164   \n",
       "tier2 ($100)               150                          5.300000    28.301887   \n",
       "tier3 ($150)               300                         11.233333    26.706231   \n",
       "\n",
       "              Marginal spend  Marginal conversions  Marginal CAC  \\\n",
       "tier1 ($50)               50             65.833333      0.759494   \n",
       "tier2 ($100)             100            126.233333      0.792184   \n",
       "tier3 ($150)             150            157.233333      0.953996   \n",
       "tier1 ($50)                0            118.100000      0.000000   \n",
       "tier2 ($100)               0            226.766667      0.000000   \n",
       "tier3 ($150)               0            324.166667      0.000000   \n",
       "tier1 ($50)               50             64.533333      0.774793   \n",
       "tier2 ($100)             100            110.733333      0.903070   \n",
       "tier3 ($150)             150            165.300000      0.907441   \n",
       "tier1 ($50)               50             83.400000      0.599520   \n",
       "tier2 ($100)             100            158.300000      0.631712   \n",
       "tier3 ($150)             150            175.000000      0.857143   \n",
       "tier1 ($50)                0            105.700000      0.000000   \n",
       "tier2 ($100)               0            183.600000      0.000000   \n",
       "tier3 ($150)               0            291.566667      0.000000   \n",
       "tier1 ($50)               50              1.400000     35.714286   \n",
       "tier2 ($100)             100              2.100000     47.619048   \n",
       "tier3 ($150)             150              6.800000     22.058824   \n",
       "tier1 ($50)               50              2.033333     24.590164   \n",
       "tier2 ($100)             100              3.266667     30.612245   \n",
       "tier3 ($150)             150              5.933333     25.280899   \n",
       "\n",
       "                     Channel  \n",
       "tier1 ($50)           social  \n",
       "tier2 ($100)          social  \n",
       "tier3 ($150)          social  \n",
       "tier1 ($50)   organic_search  \n",
       "tier2 ($100)  organic_search  \n",
       "tier3 ($150)  organic_search  \n",
       "tier1 ($50)            email  \n",
       "tier2 ($100)           email  \n",
       "tier3 ($150)           email  \n",
       "tier1 ($50)          display  \n",
       "tier2 ($100)         display  \n",
       "tier3 ($150)         display  \n",
       "tier1 ($50)           direct  \n",
       "tier2 ($100)          direct  \n",
       "tier3 ($150)          direct  \n",
       "tier1 ($50)         referral  \n",
       "tier2 ($100)        referral  \n",
       "tier3 ($150)        referral  \n",
       "tier1 ($50)      paid_search  \n",
       "tier2 ($100)     paid_search  \n",
       "tier3 ($150)     paid_search  "
      ]
     },
     "execution_count": 38,
     "metadata": {},
     "output_type": "execute_result"
    }
   ],
   "source": [
    "df_channels"
   ]
  },
  {
   "cell_type": "code",
   "execution_count": 39,
   "metadata": {
    "scrolled": true
   },
   "outputs": [
    {
     "data": {
      "text/html": [
       "<div>\n",
       "<style scoped>\n",
       "    .dataframe tbody tr th:only-of-type {\n",
       "        vertical-align: middle;\n",
       "    }\n",
       "\n",
       "    .dataframe tbody tr th {\n",
       "        vertical-align: top;\n",
       "    }\n",
       "\n",
       "    .dataframe thead th {\n",
       "        text-align: right;\n",
       "    }\n",
       "</style>\n",
       "<table border=\"1\" class=\"dataframe\">\n",
       "  <thead>\n",
       "    <tr style=\"text-align: right;\">\n",
       "      <th>Channel</th>\n",
       "      <th>direct</th>\n",
       "      <th>display</th>\n",
       "      <th>email</th>\n",
       "      <th>organic_search</th>\n",
       "      <th>paid_search</th>\n",
       "      <th>referral</th>\n",
       "      <th>social</th>\n",
       "    </tr>\n",
       "  </thead>\n",
       "  <tbody>\n",
       "    <tr>\n",
       "      <th>tier1 ($50)</th>\n",
       "      <td>0.0</td>\n",
       "      <td>0.599520</td>\n",
       "      <td>0.774793</td>\n",
       "      <td>0.0</td>\n",
       "      <td>24.590164</td>\n",
       "      <td>35.714286</td>\n",
       "      <td>0.759494</td>\n",
       "    </tr>\n",
       "    <tr>\n",
       "      <th>tier2 ($100)</th>\n",
       "      <td>0.0</td>\n",
       "      <td>0.631712</td>\n",
       "      <td>0.903070</td>\n",
       "      <td>0.0</td>\n",
       "      <td>30.612245</td>\n",
       "      <td>47.619048</td>\n",
       "      <td>0.792184</td>\n",
       "    </tr>\n",
       "    <tr>\n",
       "      <th>tier3 ($150)</th>\n",
       "      <td>0.0</td>\n",
       "      <td>0.857143</td>\n",
       "      <td>0.907441</td>\n",
       "      <td>0.0</td>\n",
       "      <td>25.280899</td>\n",
       "      <td>22.058824</td>\n",
       "      <td>0.953996</td>\n",
       "    </tr>\n",
       "  </tbody>\n",
       "</table>\n",
       "</div>"
      ],
      "text/plain": [
       "Channel       direct   display     email  organic_search  paid_search  \\\n",
       "tier1 ($50)      0.0  0.599520  0.774793             0.0    24.590164   \n",
       "tier2 ($100)     0.0  0.631712  0.903070             0.0    30.612245   \n",
       "tier3 ($150)     0.0  0.857143  0.907441             0.0    25.280899   \n",
       "\n",
       "Channel        referral    social  \n",
       "tier1 ($50)   35.714286  0.759494  \n",
       "tier2 ($100)  47.619048  0.792184  \n",
       "tier3 ($150)  22.058824  0.953996  "
      ]
     },
     "execution_count": 39,
     "metadata": {},
     "output_type": "execute_result"
    }
   ],
   "source": [
    "# create a pivot table (CAC)\n",
    "Marginal_CAC_table = pd.pivot_table(df_channels, index=df_channels.index, columns='Channel', values='Marginal CAC')\n",
    "Marginal_CAC_table"
   ]
  },
  {
   "cell_type": "code",
   "execution_count": 40,
   "metadata": {},
   "outputs": [
    {
     "data": {
      "text/html": [
       "<div>\n",
       "<style scoped>\n",
       "    .dataframe tbody tr th:only-of-type {\n",
       "        vertical-align: middle;\n",
       "    }\n",
       "\n",
       "    .dataframe tbody tr th {\n",
       "        vertical-align: top;\n",
       "    }\n",
       "\n",
       "    .dataframe thead th {\n",
       "        text-align: right;\n",
       "    }\n",
       "</style>\n",
       "<table border=\"1\" class=\"dataframe\">\n",
       "  <thead>\n",
       "    <tr style=\"text-align: right;\">\n",
       "      <th>Channel</th>\n",
       "      <th>direct</th>\n",
       "      <th>display</th>\n",
       "      <th>email</th>\n",
       "      <th>organic_search</th>\n",
       "      <th>paid_search</th>\n",
       "      <th>referral</th>\n",
       "      <th>social</th>\n",
       "    </tr>\n",
       "  </thead>\n",
       "  <tbody>\n",
       "    <tr>\n",
       "      <th>tier1 ($50)</th>\n",
       "      <td>inf</td>\n",
       "      <td>83.0</td>\n",
       "      <td>65.0</td>\n",
       "      <td>inf</td>\n",
       "      <td>2.0</td>\n",
       "      <td>1.0</td>\n",
       "      <td>66.0</td>\n",
       "    </tr>\n",
       "    <tr>\n",
       "      <th>tier2 ($100)</th>\n",
       "      <td>inf</td>\n",
       "      <td>158.0</td>\n",
       "      <td>111.0</td>\n",
       "      <td>inf</td>\n",
       "      <td>3.0</td>\n",
       "      <td>2.0</td>\n",
       "      <td>126.0</td>\n",
       "    </tr>\n",
       "    <tr>\n",
       "      <th>tier3 ($150)</th>\n",
       "      <td>inf</td>\n",
       "      <td>175.0</td>\n",
       "      <td>165.0</td>\n",
       "      <td>inf</td>\n",
       "      <td>6.0</td>\n",
       "      <td>7.0</td>\n",
       "      <td>157.0</td>\n",
       "    </tr>\n",
       "  </tbody>\n",
       "</table>\n",
       "</div>"
      ],
      "text/plain": [
       "Channel       direct  display  email  organic_search  paid_search  referral  \\\n",
       "tier1 ($50)      inf     83.0   65.0             inf          2.0       1.0   \n",
       "tier2 ($100)     inf    158.0  111.0             inf          3.0       2.0   \n",
       "tier3 ($150)     inf    175.0  165.0             inf          6.0       7.0   \n",
       "\n",
       "Channel       social  \n",
       "tier1 ($50)     66.0  \n",
       "tier2 ($100)   126.0  \n",
       "tier3 ($150)   157.0  "
      ]
     },
     "execution_count": 40,
     "metadata": {},
     "output_type": "execute_result"
    }
   ],
   "source": [
    "# create a pivot table (# of converions)\n",
    "Number_of_conversions = pd.DataFrame(50/Marginal_CAC_table.iloc[0])\n",
    "Number_of_conversions = Number_of_conversions.join(100/Marginal_CAC_table.iloc[1])\n",
    "Number_of_conversions = Number_of_conversions.join(150/Marginal_CAC_table.iloc[2])\n",
    "Number_of_conversions = Number_of_conversions.T\n",
    "round(Number_of_conversions,0)"
   ]
  },
  {
   "cell_type": "code",
   "execution_count": 41,
   "metadata": {},
   "outputs": [
    {
     "data": {
      "text/plain": [
       "372"
      ]
     },
     "execution_count": 41,
     "metadata": {},
     "output_type": "execute_result"
    }
   ],
   "source": [
    "\"\"\"\n",
    "display tier1: $ 50 \n",
    "display tier2: $100\n",
    "social tier1: $50\n",
    "\"\"\"\n",
    "83+158+66+65"
   ]
  }
 ],
 "metadata": {
  "kernelspec": {
   "display_name": "local-venv",
   "language": "python",
   "name": "local-venv"
  },
  "language_info": {
   "codemirror_mode": {
    "name": "ipython",
    "version": 3
   },
   "file_extension": ".py",
   "mimetype": "text/x-python",
   "name": "python",
   "nbconvert_exporter": "python",
   "pygments_lexer": "ipython3",
   "version": "3.7.3"
  }
 },
 "nbformat": 4,
 "nbformat_minor": 4
}
